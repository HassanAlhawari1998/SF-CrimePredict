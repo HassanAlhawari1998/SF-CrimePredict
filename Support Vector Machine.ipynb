{
 "cells": [
  {
   "cell_type": "code",
   "execution_count": 1,
   "outputs": [],
   "source": [
    "from Features import FeatureColumns\n",
    "from TrainTestData import loadData\n",
    "from sklearn.model_selection import train_test_split\n",
    "from sklearn.preprocessing import OneHotEncoder\n",
    "from sklearn.preprocessing import LabelEncoder\n",
    "from sklearn.preprocessing import StandardScaler\n",
    "from sklearn.compose import ColumnTransformer\n",
    "from sklearn.decomposition import PCA\n",
    "from sklearn.metrics import accuracy_score, f1_score, precision_score, recall_score\n",
    "from sklearn.svm import SVC\n",
    "from sklearn.model_selection import cross_val_score\n",
    "\n",
    "import numpy as np\n",
    "import pandas as pd\n",
    "import multiprocessing"
   ],
   "metadata": {
    "collapsed": false,
    "ExecuteTime": {
     "end_time": "2024-02-17T14:18:53.402531100Z",
     "start_time": "2024-02-17T14:18:53.040681100Z"
    }
   }
  },
  {
   "cell_type": "code",
   "execution_count": 2,
   "outputs": [],
   "source": [
    "X_train, X_test, y_train, y_test, data, feature_columns, categorical_features, target_column = loadData()"
   ],
   "metadata": {
    "collapsed": false,
    "ExecuteTime": {
     "end_time": "2024-02-17T14:18:57.196870100Z",
     "start_time": "2024-02-17T14:18:55.015904900Z"
    }
   }
  },
  {
   "cell_type": "code",
   "execution_count": 3,
   "outputs": [],
   "source": [
    "scaler = StandardScaler()\n",
    "\n",
    "X_train_scaled = scaler.fit_transform(X_train)\n",
    "X_test_scaled = scaler.transform(X_test)"
   ],
   "metadata": {
    "collapsed": false,
    "ExecuteTime": {
     "end_time": "2024-02-17T14:18:58.143253900Z",
     "start_time": "2024-02-17T14:18:57.850948100Z"
    }
   }
  },
  {
   "cell_type": "code",
   "execution_count": 4,
   "outputs": [],
   "source": [
    "label_encoder = LabelEncoder()\n",
    "y_train_encoded = label_encoder.fit_transform(y_train)\n",
    "y_test_encoded = label_encoder.fit_transform(y_test)"
   ],
   "metadata": {
    "collapsed": false,
    "ExecuteTime": {
     "end_time": "2024-02-17T14:19:02.512582700Z",
     "start_time": "2024-02-17T14:19:02.444221400Z"
    }
   }
  },
  {
   "cell_type": "code",
   "execution_count": 5,
   "outputs": [
    {
     "name": "stdout",
     "output_type": "stream",
     "text": [
      "[[-3.75107098  1.83021965  0.49008716 ...  0.45851365 -0.21072082\n",
      "   1.13772842]\n",
      " [-2.2004487   0.38333041  1.86107782 ... -0.7384753  -0.72611298\n",
      "   0.6608206 ]\n",
      " [-0.4471966  -0.53257959 -1.55333713 ...  0.08551069  0.07435526\n",
      "  -0.47742015]\n",
      " ...\n",
      " [-3.68881163 -1.16318892  1.14384769 ... -0.2268771   0.57354744\n",
      "   0.76803492]\n",
      " [ 1.42621002  0.50040138  0.22298999 ...  0.29616544 -0.3939319\n",
      "  -0.97609791]\n",
      " [-2.74658427  1.47406696  0.8657662  ... -0.51498864 -0.70613121\n",
      "   1.7565737 ]]\n"
     ]
    }
   ],
   "source": [
    "# Dimensionalität entspricht der Anzahl der Features (Merkmale) in unserem Falle X Features.\n",
    "pca = PCA(n_components=0.95)\n",
    "# Das Argument n_components=0.95 in der PCA-Funktion von sklearn.decomposition gibt an,\n",
    "# dass die Anzahl der Komponenten für die Hauptkomponentenanalyse (PCA) so gewählt werden soll,\n",
    "# dass mindestens 95% der Varianz der ursprünglichen Daten erhalten bleiben. Es handelt sich\n",
    "# hierbei um eine Form der Dimensionsreduktion, bei der nicht eine feste Anzahl von\n",
    "# Hauptkomponenten vorgegeben wird, sondern die minimale Anzahl von Komponenten, die benötigt\n",
    "# wird, um einen Großteil der Datenvarianz zu erfassen.\n",
    "X_train_pca = pca.fit_transform(X_train_scaled)\n",
    "X_test_pca = pca.transform(X_test_scaled)\n",
    "\n",
    "print(X_test_pca)"
   ],
   "metadata": {
    "collapsed": false,
    "ExecuteTime": {
     "end_time": "2024-02-17T14:19:05.562246900Z",
     "start_time": "2024-02-17T14:19:04.483648200Z"
    }
   }
  },
  {
   "cell_type": "code",
   "execution_count": null,
   "outputs": [],
   "source": [
    "# Kernel: linear\n",
    "svm_clf_linear = SVC(kernel='linear')\n",
    "k = 3\n",
    "# Parallelisierung auf allen verfügbaren CPU-Kernen\n",
    "n_jobs = multiprocessing.cpu_count()\n",
    "# Führe Kreuzvalidierung mit den skalierten Trainingsdaten durch und gib die Genauigkeit aus\n",
    "cv_scores = cross_val_score(svm_clf_linear, X_train_scaled, y_train_encoded, cv=k, n_jobs=n_jobs)\n",
    "\n",
    "print(\"Cross-Validation Scores:\", cv_scores)\n",
    "print(\"Durchschnittliche Genauigkeit:\", cv_scores.mean())"
   ],
   "metadata": {
    "collapsed": false,
    "is_executing": true,
    "ExecuteTime": {
     "start_time": "2024-02-17T14:19:07.020996100Z"
    }
   }
  },
  {
   "cell_type": "code",
   "execution_count": null,
   "outputs": [],
   "source": [
    "svm_clf_linear.fit(X_train_scaled, y_train_encoded)\n",
    "y_pred_svm_linear = svm_clf_linear.predict(X_test_scaled)\n",
    "accuracy_svm_linear = accuracy_score(y_test_encoded, y_pred_svm_linear)\n",
    "f1_svm_linear = f1_score(y_test_encoded, y_pred_svm_linear, average='weighted')\n",
    "precision_svm_linear = precision_score(y_test_encoded, y_pred_svm_linear, average='weighted')\n",
    "recall_svm_linear = recall_score(y_test_encoded, y_pred_svm_linear, average='weighted')\n",
    "\n",
    "print(\"Metrics for linear kernel:\")\n",
    "print(f\"Accuracy: {accuracy_svm_linear:.4f}, F1-Score: {f1_svm_linear:.4f}, Precision: {precision_svm_linear:.4f}, Recall: {recall_svm_linear:.4f}\\n\")"
   ],
   "metadata": {
    "collapsed": false
   }
  },
  {
   "cell_type": "code",
   "execution_count": null,
   "outputs": [],
   "source": [
    "# Kernel: poly\n",
    "svm_clf_poly = SVC(kernel='poly')\n",
    "svm_clf_poly.fit(X_train, y_train)\n",
    "y_pred_svm_poly = svm_clf_poly.predict(X_test)\n",
    "\n",
    "accuracy_svm_poly = accuracy_score(y_test, y_pred_svm_poly)\n",
    "f1_svm_poly = f1_score(y_test, y_pred_svm_poly, average='weighted')\n",
    "precision_svm_poly = precision_score(y_test, y_pred_svm_poly, average='weighted')\n",
    "recall_svm_poly = recall_score(y_test, y_pred_svm_poly, average='weighted')\n",
    "\n",
    "# Ausgabe\n",
    "print(\"Metrics for poly kernel:\")\n",
    "print(f\"Accuracy: {accuracy_svm_poly:.4f}, F1-Score: {f1_svm_poly:.4f}, Precision: {precision_svm_poly:.4f}, Recall: {recall_svm_poly:.4f}\\n\")"
   ],
   "metadata": {
    "collapsed": false
   }
  },
  {
   "cell_type": "code",
   "execution_count": null,
   "outputs": [],
   "source": [
    "# Kernel: rbf\n",
    "svm_clf_rbf = SVC(kernel='rbf')\n",
    "svm_clf_rbf.fit(X_train, y_train)\n",
    "y_pred_svm_rbf = svm_clf_rbf.predict(X_test)\n",
    "\n",
    "accuracy_svm_rbf = accuracy_score(y_test, y_pred_svm_rbf)\n",
    "f1_svm_rbf = f1_score(y_test, y_pred_svm_rbf, average='weighted')\n",
    "precision_svm_rbf = precision_score(y_test, y_pred_svm_rbf, average='weighted')\n",
    "recall_svm_rbf = recall_score(y_test, y_pred_svm_rbf, average='weighted')\n",
    "\n",
    "# Ausgabe\n",
    "print(\"Metrics for rbf kernel:\")\n",
    "print(f\"Accuracy: {accuracy_svm_rbf:.4f}, F1-Score: {f1_svm_rbf:.4f}, Precision: {precision_svm_rbf:.4f}, Recall: {recall_svm_rbf:.4f}\\n\")"
   ],
   "metadata": {
    "collapsed": false
   }
  },
  {
   "cell_type": "code",
   "execution_count": null,
   "outputs": [],
   "source": [
    "# Kernel: sigmoid\n",
    "svm_clf_sigmoid = SVC(kernel='sigmoid')\n",
    "svm_clf_sigmoid.fit(X_train, y_train)\n",
    "y_pred_svm_sigmoid = svm_clf_sigmoid.predict(X_test)\n",
    "\n",
    "accuracy_svm_sigmoid = accuracy_score(y_test, y_pred_svm_sigmoid)\n",
    "f1_svm_sigmoid = f1_score(y_test, y_pred_svm_sigmoid, average='weighted')\n",
    "precision_svm_sigmoid = precision_score(y_test, y_pred_svm_sigmoid, average='weighted')\n",
    "recall_svm_sigmoid = recall_score(y_test, y_pred_svm_sigmoid, average='weighted')\n",
    "\n",
    "# Ausgabe\n",
    "print(\"Metrics for sigmoid kernel:\")\n",
    "print(f\"Accuracy: {accuracy_svm_sigmoid:.4f}, F1-Score: {f1_svm_sigmoid:.4f}, Precision: {precision_svm_sigmoid:.4f}, Recall: {recall_svm_sigmoid:.4f}\\n\")"
   ],
   "metadata": {
    "collapsed": false
   }
  },
  {
   "cell_type": "code",
   "execution_count": null,
   "outputs": [],
   "source": [],
   "metadata": {
    "collapsed": false
   }
  }
 ],
 "metadata": {
  "kernelspec": {
   "display_name": "Python 3",
   "language": "python",
   "name": "python3"
  },
  "language_info": {
   "codemirror_mode": {
    "name": "ipython",
    "version": 2
   },
   "file_extension": ".py",
   "mimetype": "text/x-python",
   "name": "python",
   "nbconvert_exporter": "python",
   "pygments_lexer": "ipython2",
   "version": "2.7.6"
  }
 },
 "nbformat": 4,
 "nbformat_minor": 0
}
