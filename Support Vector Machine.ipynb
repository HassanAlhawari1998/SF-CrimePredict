{
 "cells": [
  {
   "cell_type": "code",
   "execution_count": 1,
   "outputs": [],
   "source": [
    "from Features import FeatureColumns\n",
    "from TrainTestData import loadData\n",
    "from sklearn.model_selection import train_test_split\n",
    "from sklearn.preprocessing import OneHotEncoder\n",
    "from sklearn.preprocessing import LabelEncoder\n",
    "from sklearn.preprocessing import StandardScaler\n",
    "from sklearn.compose import ColumnTransformer\n",
    "from sklearn.decomposition import PCA\n",
    "from sklearn.metrics import accuracy_score, f1_score, precision_score, recall_score\n",
    "from sklearn.svm import SVC\n",
    "from sklearn.model_selection import cross_validate\n",
    "\n",
    "import numpy as np\n",
    "import pandas as pd\n",
    "import multiprocessing"
   ],
   "metadata": {
    "collapsed": false,
    "ExecuteTime": {
     "end_time": "2024-02-17T17:10:56.409891500Z",
     "start_time": "2024-02-17T17:10:55.927960800Z"
    }
   }
  },
  {
   "cell_type": "code",
   "execution_count": 2,
   "outputs": [
    {
     "name": "stdout",
     "output_type": "stream",
     "text": [
      "                      Dates       Category  \\\n",
      "299931  2005-09-23 03:22:00  DRUG/NARCOTIC   \n",
      "6964    2015-03-04 18:30:00  LARCENY/THEFT   \n",
      "231301  2007-11-18 07:55:00  DRUG/NARCOTIC   \n",
      "70930   2013-04-30 08:00:00  VEHICLE THEFT   \n",
      "205172  2008-10-01 12:15:00        ASSAULT   \n",
      "...                     ...            ...   \n",
      "88696   2012-10-16 17:30:00        ASSAULT   \n",
      "80620   2013-01-11 00:05:00  LARCENY/THEFT   \n",
      "340215  2004-07-23 20:00:00  LARCENY/THEFT   \n",
      "373466  2003-08-18 22:00:00  LARCENY/THEFT   \n",
      "238195  2007-09-05 01:41:00  DRUG/NARCOTIC   \n",
      "\n",
      "                                     Descript  DayOfWeek PdDistrict  \\\n",
      "299931        POSSESSION OF COCAINE FOR SALES     Friday  INGLESIDE   \n",
      "6964             GRAND THEFT FROM LOCKED AUTO  Wednesday   SOUTHERN   \n",
      "231301        POSSESSION OF BASE/ROCK COCAINE     Sunday    MISSION   \n",
      "70930                       STOLEN AUTOMOBILE    Tuesday    MISSION   \n",
      "205172                                BATTERY  Wednesday   NORTHERN   \n",
      "...                                       ...        ...        ...   \n",
      "88696                                 BATTERY    Tuesday    TARAVAL   \n",
      "80620                  GRAND THEFT PICKPOCKET     Friday   SOUTHERN   \n",
      "340215           GRAND THEFT FROM LOCKED AUTO     Friday    CENTRAL   \n",
      "373466           GRAND THEFT FROM LOCKED AUTO     Monday    MISSION   \n",
      "238195  POSSESSION OF NARCOTICS PARAPHERNALIA  Wednesday   SOUTHERN   \n",
      "\n",
      "            Resolution                                Address           X  \\\n",
      "299931  ARREST, BOOKED              CORTLAND AV / ANDERSON ST -122.415185   \n",
      "6964              NONE                  100 Block of MINNA ST -122.400684   \n",
      "231301  ARREST, BOOKED                      HOFF ST / 16TH ST -122.420580   \n",
      "70930             NONE               FLORIDA ST / MARIPOSA ST -122.411210   \n",
      "205172  ARREST, BOOKED                  1200 Block of POLK ST -122.420232   \n",
      "...                ...                                    ...         ...   \n",
      "88696             NONE                 4300 Block of JUDAH ST -122.508619   \n",
      "80620             NONE                1500 Block of FOLSOM ST -122.414224   \n",
      "340215            NONE  800 Block of THE EMBARCADERO NORTH ST -122.400387   \n",
      "373466            NONE                       20TH ST / NOE ST -122.432484   \n",
      "238195  ARREST, BOOKED                    400 Block of 4TH ST -122.399834   \n",
      "\n",
      "                Y  year  ...  month  day  hour  POLITICAL DIRECTION  \\\n",
      "299931  37.738934  2005  ...      9   23     3             REPUBLIC   \n",
      "6964    37.786381  2015  ...      3    4    18           DEMOCRATIC   \n",
      "231301  37.764997  2007  ...     11   18     7             REPUBLIC   \n",
      "70930   37.762974  2013  ...      4   30     8           DEMOCRATIC   \n",
      "205172  37.787981  2008  ...     10    1    12             REPUBLIC   \n",
      "...           ...   ...  ...    ...  ...   ...                  ...   \n",
      "88696   37.760360  2012  ...     10   16    17           DEMOCRATIC   \n",
      "80620   37.771598  2013  ...      1   11     0           DEMOCRATIC   \n",
      "340215  37.802574  2004  ...      7   23    20             REPUBLIC   \n",
      "373466  37.757820  2003  ...      8   18    22             REPUBLIC   \n",
      "238195  37.781043  2007  ...      9    5     1             REPUBLIC   \n",
      "\n",
      "       Min.TemperatureF  Mean.TemperatureF  Max.TemperatureF  Mean.Humidity  \\\n",
      "299931             53.0               59.0                64           70.0   \n",
      "6964               46.0               56.0                66           65.0   \n",
      "231301             52.0               58.0                63           89.0   \n",
      "70930              50.0               59.0                68           58.0   \n",
      "205172             57.0               66.0                74           64.0   \n",
      "...                 ...                ...               ...            ...   \n",
      "88696              53.0               63.0                72           82.0   \n",
      "80620              44.0               48.0                52           63.0   \n",
      "340215             57.0               64.0                73           82.0   \n",
      "373466             59.0               65.0                71           80.0   \n",
      "238195             57.0               73.0                88           58.0   \n",
      "\n",
      "        Events  season  \n",
      "299931   Clear  Autumn  \n",
      "6964     Clear  Winter  \n",
      "231301     Fog  Autumn  \n",
      "70930    Clear  Spring  \n",
      "205172   Clear  Autumn  \n",
      "...        ...     ...  \n",
      "88696    Clear  Autumn  \n",
      "80620    Clear  Winter  \n",
      "340215   Clear  Summer  \n",
      "373466   Clear  Summer  \n",
      "238195   Clear  Summer  \n",
      "\n",
      "[20000 rows x 21 columns]\n"
     ]
    }
   ],
   "source": [
    "X_train, X_test, y_train, y_test, data, feature_columns, categorical_features, target_column = loadData()\n",
    "print(data)"
   ],
   "metadata": {
    "collapsed": false,
    "ExecuteTime": {
     "end_time": "2024-02-17T17:11:00.612184600Z",
     "start_time": "2024-02-17T17:10:58.046131400Z"
    }
   }
  },
  {
   "cell_type": "code",
   "execution_count": 3,
   "outputs": [],
   "source": [
    "scaler = StandardScaler()\n",
    "\n",
    "X_train_scaled = scaler.fit_transform(X_train)\n",
    "X_test_scaled = scaler.transform(X_test)"
   ],
   "metadata": {
    "collapsed": false,
    "ExecuteTime": {
     "end_time": "2024-02-17T17:11:00.693559100Z",
     "start_time": "2024-02-17T17:11:00.619675400Z"
    }
   }
  },
  {
   "cell_type": "code",
   "execution_count": 4,
   "outputs": [],
   "source": [
    "label_encoder = LabelEncoder()\n",
    "y_train_encoded = label_encoder.fit_transform(y_train)\n",
    "y_test_encoded = label_encoder.fit_transform(y_test)"
   ],
   "metadata": {
    "collapsed": false,
    "ExecuteTime": {
     "end_time": "2024-02-17T17:11:00.700555900Z",
     "start_time": "2024-02-17T17:11:00.671859500Z"
    }
   }
  },
  {
   "cell_type": "code",
   "execution_count": 5,
   "outputs": [
    {
     "name": "stdout",
     "output_type": "stream",
     "text": [
      "[[-2.17811818  0.49998378 -1.82548336 ... -0.21499777  0.05369218\n",
      "   0.26723836]\n",
      " [ 2.3615514   0.25952073 -0.53229809 ...  0.06943277  0.14961234\n",
      "  -0.11593392]\n",
      " [ 0.12710737 -0.4799879  -1.68518251 ...  0.30584022  0.67390384\n",
      "  -0.50114048]\n",
      " ...\n",
      " [ 1.30843094 -1.08181308  0.44564086 ...  0.56242773  0.02878945\n",
      "   0.22085783]\n",
      " [ 2.41584946  0.04438995  0.59736235 ...  0.17658566 -0.20993315\n",
      "   0.41625992]\n",
      " [-1.89651347  3.5051379   0.50090224 ... -0.4717195   0.11344314\n",
      "   0.01869985]]\n"
     ]
    }
   ],
   "source": [
    "# Dimensionalität entspricht der Anzahl der Features (Merkmale) in unserem Falle X Features.\n",
    "pca = PCA(n_components=0.95)\n",
    "# Das Argument n_components=0.95 in der PCA-Funktion von sklearn.decomposition gibt an,\n",
    "# dass die Anzahl der Komponenten für die Hauptkomponentenanalyse (PCA) so gewählt werden soll,\n",
    "# dass mindestens 95% der Varianz der ursprünglichen Daten erhalten bleiben. Es handelt sich\n",
    "# hierbei um eine Form der Dimensionsreduktion, bei der nicht eine feste Anzahl von\n",
    "# Hauptkomponenten vorgegeben wird, sondern die minimale Anzahl von Komponenten, die benötigt\n",
    "# wird, um einen Großteil der Datenvarianz zu erfassen.\n",
    "X_train_pca = pca.fit_transform(X_train_scaled)\n",
    "X_test_pca = pca.transform(X_test_scaled)\n",
    "\n",
    "print(X_test_pca)"
   ],
   "metadata": {
    "collapsed": false,
    "ExecuteTime": {
     "end_time": "2024-02-17T17:11:00.779377700Z",
     "start_time": "2024-02-17T17:11:00.703080400Z"
    }
   }
  },
  {
   "cell_type": "code",
   "execution_count": null,
   "outputs": [],
   "source": [
    "# Kernel: linear\n",
    "svm_clf_linear = SVC(kernel='linear',probability=True, gamma='auto')\n",
    "k = 4\n",
    "# Parallelisierung auf allen verfügbaren CPU-Kernen\n",
    "n_jobs = multiprocessing.cpu_count()\n",
    "# Führe Kreuzvalidierung mit den skalierten Trainingsdaten durch und gib die Genauigkeit aus\n",
    "scoring = {\n",
    "    'accuracy': 'accuracy',\n",
    "    'f1_macro': 'f1_macro',\n",
    "    'roc_auc_ovr': 'roc_auc_ovr'\n",
    "}\n",
    "\n",
    "# Kreuzvalidierung mit mehreren Metriken\n",
    "cv_results = cross_validate(svm_clf_linear, X_train_scaled, y_train_encoded, cv=k, scoring=scoring, return_train_score=False, n_jobs=n_jobs)\n",
    "\n",
    "# Ergebnisse ausgeben\n",
    "for metric in scoring.keys():\n",
    "    print(f\"Durchschnittliche {metric}: {np.mean(cv_results[f'test_{metric}']) * 100:.2f}%\")\n",
    "    print(f\"Standardabweichung {metric}: {np.std(cv_results[f'test_{metric}']) * 100:.2f}%\")"
   ],
   "metadata": {
    "collapsed": false,
    "is_executing": true,
    "ExecuteTime": {
     "start_time": "2024-02-17T17:11:00.781914900Z"
    }
   }
  },
  {
   "cell_type": "code",
   "execution_count": null,
   "outputs": [],
   "source": [
    "svm_clf_linear.fit(X_train_scaled, y_train_encoded)\n",
    "y_pred_svm_linear = svm_clf_linear.predict(X_test_scaled)\n",
    "accuracy_svm_linear = accuracy_score(y_test_encoded, y_pred_svm_linear)\n",
    "f1_svm_linear = f1_score(y_test_encoded, y_pred_svm_linear, average='weighted')\n",
    "precision_svm_linear = precision_score(y_test_encoded, y_pred_svm_linear, average='weighted')\n",
    "recall_svm_linear = recall_score(y_test_encoded, y_pred_svm_linear, average='weighted')\n",
    "\n",
    "print(\"Metrics for linear kernel:\")\n",
    "print(f\"Accuracy: {accuracy_svm_linear:.4f}, F1-Score: {f1_svm_linear:.4f}, Precision: {precision_svm_linear:.4f}, Recall: {recall_svm_linear:.4f}\\n\")"
   ],
   "metadata": {
    "collapsed": false
   }
  },
  {
   "cell_type": "code",
   "execution_count": null,
   "outputs": [],
   "source": [
    "# Kernel: poly\n",
    "svm_clf_poly = SVC(kernel='poly')\n",
    "svm_clf_poly.fit(X_train, y_train)\n",
    "y_pred_svm_poly = svm_clf_poly.predict(X_test)\n",
    "\n",
    "accuracy_svm_poly = accuracy_score(y_test, y_pred_svm_poly)\n",
    "f1_svm_poly = f1_score(y_test, y_pred_svm_poly, average='weighted')\n",
    "precision_svm_poly = precision_score(y_test, y_pred_svm_poly, average='weighted')\n",
    "recall_svm_poly = recall_score(y_test, y_pred_svm_poly, average='weighted')\n",
    "\n",
    "# Ausgabe\n",
    "print(\"Metrics for poly kernel:\")\n",
    "print(f\"Accuracy: {accuracy_svm_poly:.4f}, F1-Score: {f1_svm_poly:.4f}, Precision: {precision_svm_poly:.4f}, Recall: {recall_svm_poly:.4f}\\n\")"
   ],
   "metadata": {
    "collapsed": false
   }
  },
  {
   "cell_type": "code",
   "execution_count": 2,
   "outputs": [
    {
     "ename": "NameError",
     "evalue": "name 'SVC' is not defined",
     "output_type": "error",
     "traceback": [
      "\u001B[1;31m---------------------------------------------------------------------------\u001B[0m",
      "\u001B[1;31mNameError\u001B[0m                                 Traceback (most recent call last)",
      "Cell \u001B[1;32mIn[2], line 2\u001B[0m\n\u001B[0;32m      1\u001B[0m \u001B[38;5;66;03m# Kernel: rbf\u001B[39;00m\n\u001B[1;32m----> 2\u001B[0m svm_clf_rbf \u001B[38;5;241m=\u001B[39m \u001B[43mSVC\u001B[49m(kernel\u001B[38;5;241m=\u001B[39m\u001B[38;5;124m'\u001B[39m\u001B[38;5;124mrbf\u001B[39m\u001B[38;5;124m'\u001B[39m)\n\u001B[0;32m      3\u001B[0m svm_clf_rbf\u001B[38;5;241m.\u001B[39mfit(X_train, y_train)\n\u001B[0;32m      4\u001B[0m y_pred_svm_rbf \u001B[38;5;241m=\u001B[39m svm_clf_rbf\u001B[38;5;241m.\u001B[39mpredict(X_test)\n",
      "\u001B[1;31mNameError\u001B[0m: name 'SVC' is not defined"
     ]
    }
   ],
   "source": [
    "# Kernel: rbf\n",
    "svm_clf_rbf = SVC(kernel='rbf')\n",
    "svm_clf_rbf.fit(X_train, y_train)\n",
    "y_pred_svm_rbf = svm_clf_rbf.predict(X_test)\n",
    "\n",
    "accuracy_svm_rbf = accuracy_score(y_test, y_pred_svm_rbf)\n",
    "f1_svm_rbf = f1_score(y_test, y_pred_svm_rbf, average='weighted')\n",
    "precision_svm_rbf = precision_score(y_test, y_pred_svm_rbf, average='weighted')\n",
    "recall_svm_rbf = recall_score(y_test, y_pred_svm_rbf, average='weighted')\n",
    "\n",
    "# Ausgabe\n",
    "print(\"Metrics for rbf kernel:\")\n",
    "print(f\"Accuracy: {accuracy_svm_rbf:.4f}, F1-Score: {f1_svm_rbf:.4f}, Precision: {precision_svm_rbf:.4f}, Recall: {recall_svm_rbf:.4f}\\n\")"
   ],
   "metadata": {
    "collapsed": false,
    "ExecuteTime": {
     "end_time": "2024-02-17T17:00:22.863459700Z",
     "start_time": "2024-02-17T17:00:22.817329500Z"
    }
   }
  },
  {
   "cell_type": "code",
   "execution_count": null,
   "outputs": [],
   "source": [
    "# Kernel: sigmoid\n",
    "svm_clf_sigmoid = SVC(kernel='sigmoid')\n",
    "svm_clf_sigmoid.fit(X_train, y_train)\n",
    "y_pred_svm_sigmoid = svm_clf_sigmoid.predict(X_test)\n",
    "\n",
    "accuracy_svm_sigmoid = accuracy_score(y_test, y_pred_svm_sigmoid)\n",
    "f1_svm_sigmoid = f1_score(y_test, y_pred_svm_sigmoid, average='weighted')\n",
    "precision_svm_sigmoid = precision_score(y_test, y_pred_svm_sigmoid, average='weighted')\n",
    "recall_svm_sigmoid = recall_score(y_test, y_pred_svm_sigmoid, average='weighted')\n",
    "\n",
    "# Ausgabe\n",
    "print(\"Metrics for sigmoid kernel:\")\n",
    "print(f\"Accuracy: {accuracy_svm_sigmoid:.4f}, F1-Score: {f1_svm_sigmoid:.4f}, Precision: {precision_svm_sigmoid:.4f}, Recall: {recall_svm_sigmoid:.4f}\\n\")"
   ],
   "metadata": {
    "collapsed": false
   }
  },
  {
   "cell_type": "code",
   "execution_count": null,
   "outputs": [],
   "source": [],
   "metadata": {
    "collapsed": false
   }
  }
 ],
 "metadata": {
  "kernelspec": {
   "display_name": "Python 3",
   "language": "python",
   "name": "python3"
  },
  "language_info": {
   "codemirror_mode": {
    "name": "ipython",
    "version": 2
   },
   "file_extension": ".py",
   "mimetype": "text/x-python",
   "name": "python",
   "nbconvert_exporter": "python",
   "pygments_lexer": "ipython2",
   "version": "2.7.6"
  }
 },
 "nbformat": 4,
 "nbformat_minor": 0
}
