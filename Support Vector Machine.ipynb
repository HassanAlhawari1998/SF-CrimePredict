{
 "cells": [
  {
   "cell_type": "code",
   "execution_count": null,
   "outputs": [],
   "source": [
    "from Features import FeatureColumns\n",
    "from sklearn.model_selection import train_test_split\n",
    "from sklearn.preprocessing import OneHotEncoder\n",
    "from sklearn.preprocessing import LabelEncoder\n",
    "from sklearn.compose import ColumnTransformer\n",
    "from sklearn.metrics import accuracy_score, f1_score, precision_score, recall_score\n",
    "from sklearn.svm import SVC\n",
    "import numpy as np\n",
    "import pandas as pd"
   ],
   "metadata": {
    "collapsed": false,
    "is_executing": true
   }
  },
  {
   "cell_type": "code",
   "execution_count": 2,
   "outputs": [
    {
     "name": "stderr",
     "output_type": "stream",
     "text": [
      "C:\\Users\\HassanAlhawari\\AppData\\Local\\Temp\\ipykernel_16452\\733257305.py:2: DtypeWarning: Columns (1,2,3,4,5,6,7,10,15,16) have mixed types. Specify dtype option on import or set low_memory=False.\n",
      "  data = pd.read_csv(data_path)\n"
     ]
    }
   ],
   "source": [
    "data_path = 'train_with_feature_test.csv'\n",
    "data = pd.read_csv(data_path)\n",
    "data_cleaned = data.dropna()"
   ],
   "metadata": {
    "collapsed": false,
    "ExecuteTime": {
     "end_time": "2024-02-14T17:32:41.773404900Z",
     "start_time": "2024-02-14T17:32:40.428758800Z"
    }
   }
  },
  {
   "cell_type": "code",
   "execution_count": 3,
   "outputs": [],
   "source": [
    "# Spalten für das Modell (vereinfachte Auswahl für die Demonstration)\n",
    "feature_columns =[feature.value for feature in FeatureColumns]\n",
    "target_column = 'Category'\n",
    "\n",
    "categorical_features = [col for col in feature_columns if data_cleaned[col].dtype == 'object']\n",
    "numerical_features = [col for col in feature_columns if col not in categorical_features]\n",
    "\n",
    "preprocessor = ColumnTransformer(\n",
    "    transformers=[\n",
    "        ('num', 'passthrough', numerical_features),\n",
    "        ('cat',  OneHotEncoder(sparse_output=False, handle_unknown='ignore'), categorical_features)\n",
    "    ]\n",
    ")\n",
    "\n",
    "X = data_cleaned[feature_columns]\n",
    "y = data_cleaned[target_column]"
   ],
   "metadata": {
    "collapsed": false,
    "ExecuteTime": {
     "end_time": "2024-02-14T17:32:46.018671400Z",
     "start_time": "2024-02-14T17:32:45.977540200Z"
    }
   }
  },
  {
   "cell_type": "code",
   "execution_count": 4,
   "outputs": [],
   "source": [
    "# Anwenden des Preprocessors\n",
    "X_processed = preprocessor.fit_transform(X)\n",
    "encoded_feature_names = preprocessor.named_transformers_['cat'].get_feature_names_out(categorical_features)\n",
    "\n",
    "all_feature_names = np.concatenate([numerical_features, encoded_feature_names])\n",
    "X_final = pd.DataFrame(X_processed, columns=all_feature_names)\n",
    "label_encoder = LabelEncoder()\n",
    "\n",
    "# Aufteilung von Daten für Training und Test\n",
    "X_train, X_test, y_train, y_test = train_test_split(X_final, y, test_size=0.2, random_state=42)"
   ],
   "metadata": {
    "collapsed": false,
    "ExecuteTime": {
     "end_time": "2024-02-14T17:32:50.587602800Z",
     "start_time": "2024-02-14T17:32:50.180330Z"
    }
   }
  },
  {
   "cell_type": "code",
   "execution_count": null,
   "outputs": [],
   "source": [
    "# Kernel: linear\n",
    "svm_clf_linear = SVC(kernel='linear')\n",
    "svm_clf_linear.fit(X_train, y_train)\n",
    "y_pred_svm_linear = svm_clf_linear.predict(X_test)\n",
    "\n",
    "accuracy_svm_linear = accuracy_score(y_test, y_pred_svm_linear)\n",
    "f1_svm_linear = f1_score(y_test, y_pred_svm_linear, average='weighted')\n",
    "precision_svm_linear = precision_score(y_test, y_pred_svm_linear, average='weighted')\n",
    "recall_svm_linear = recall_score(y_test, y_pred_svm_linear, average='weighted')\n",
    "\n",
    "print(\"Metrics for linear kernel:\")\n",
    "print(f\"Accuracy: {accuracy_svm_linear:.4f}, F1-Score: {f1_svm_linear:.4f}, Precision: {precision_svm_linear:.4f}, Recall: {recall_svm_linear:.4f}\\n\")"
   ],
   "metadata": {
    "collapsed": false,
    "is_executing": true
   }
  },
  {
   "cell_type": "code",
   "execution_count": null,
   "outputs": [],
   "source": [
    "# Kernel: poly\n",
    "svm_clf_poly = SVC(kernel='poly')\n",
    "svm_clf_poly.fit(X_train, y_train)\n",
    "y_pred_svm_poly = svm_clf_poly.predict(X_test)\n",
    "\n",
    "accuracy_svm_poly = accuracy_score(y_test, y_pred_svm_poly)\n",
    "f1_svm_poly = f1_score(y_test, y_pred_svm_poly, average='weighted')\n",
    "precision_svm_poly = precision_score(y_test, y_pred_svm_poly, average='weighted')\n",
    "recall_svm_poly = recall_score(y_test, y_pred_svm_poly, average='weighted')\n",
    "\n",
    "# Ausgabe\n",
    "print(\"Metrics for poly kernel:\")\n",
    "print(f\"Accuracy: {accuracy_svm_poly:.4f}, F1-Score: {f1_svm_poly:.4f}, Precision: {precision_svm_poly:.4f}, Recall: {recall_svm_poly:.4f}\\n\")"
   ],
   "metadata": {
    "collapsed": false,
    "is_executing": true
   }
  },
  {
   "cell_type": "code",
   "execution_count": null,
   "outputs": [],
   "source": [
    "# Kernel: rbf\n",
    "svm_clf_rbf = SVC(kernel='rbf')\n",
    "svm_clf_rbf.fit(X_train, y_train)\n",
    "y_pred_svm_rbf = svm_clf_rbf.predict(X_test)\n",
    "\n",
    "accuracy_svm_rbf = accuracy_score(y_test, y_pred_svm_rbf)\n",
    "f1_svm_rbf = f1_score(y_test, y_pred_svm_rbf, average='weighted')\n",
    "precision_svm_rbf = precision_score(y_test, y_pred_svm_rbf, average='weighted')\n",
    "recall_svm_rbf = recall_score(y_test, y_pred_svm_rbf, average='weighted')\n",
    "\n",
    "# Ausgabe\n",
    "print(\"Metrics for rbf kernel:\")\n",
    "print(f\"Accuracy: {accuracy_svm_rbf:.4f}, F1-Score: {f1_svm_rbf:.4f}, Precision: {precision_svm_rbf:.4f}, Recall: {recall_svm_rbf:.4f}\\n\")"
   ],
   "metadata": {
    "collapsed": false,
    "is_executing": true
   }
  },
  {
   "cell_type": "code",
   "execution_count": null,
   "outputs": [],
   "source": [
    "# Kernel: sigmoid\n",
    "svm_clf_sigmoid = SVC(kernel='sigmoid')\n",
    "svm_clf_sigmoid.fit(X_train, y_train)\n",
    "y_pred_svm_sigmoid = svm_clf_sigmoid.predict(X_test)\n",
    "\n",
    "accuracy_svm_sigmoid = accuracy_score(y_test, y_pred_svm_sigmoid)\n",
    "f1_svm_sigmoid = f1_score(y_test, y_pred_svm_sigmoid, average='weighted')\n",
    "precision_svm_sigmoid = precision_score(y_test, y_pred_svm_sigmoid, average='weighted')\n",
    "recall_svm_sigmoid = recall_score(y_test, y_pred_svm_sigmoid, average='weighted')\n",
    "\n",
    "# Ausgabe\n",
    "print(\"Metrics for sigmoid kernel:\")\n",
    "print(f\"Accuracy: {accuracy_svm_sigmoid:.4f}, F1-Score: {f1_svm_sigmoid:.4f}, Precision: {precision_svm_sigmoid:.4f}, Recall: {recall_svm_sigmoid:.4f}\\n\")"
   ],
   "metadata": {
    "collapsed": false,
    "is_executing": true
   }
  }
 ],
 "metadata": {
  "kernelspec": {
   "display_name": "Python 3",
   "language": "python",
   "name": "python3"
  },
  "language_info": {
   "codemirror_mode": {
    "name": "ipython",
    "version": 2
   },
   "file_extension": ".py",
   "mimetype": "text/x-python",
   "name": "python",
   "nbconvert_exporter": "python",
   "pygments_lexer": "ipython2",
   "version": "2.7.6"
  }
 },
 "nbformat": 4,
 "nbformat_minor": 0
}
