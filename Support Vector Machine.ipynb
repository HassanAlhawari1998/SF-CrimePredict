{
 "cells": [
  {
   "cell_type": "code",
   "execution_count": 1,
   "outputs": [],
   "source": [
    "from Features import FeatureColumns\n",
    "from TrainTestData import loadData\n",
    "from sklearn.model_selection import train_test_split\n",
    "from sklearn.preprocessing import OneHotEncoder\n",
    "from sklearn.preprocessing import LabelEncoder\n",
    "from sklearn.compose import ColumnTransformer\n",
    "from sklearn.decomposition import PCA\n",
    "from sklearn.metrics import accuracy_score, f1_score, precision_score, recall_score\n",
    "from sklearn.svm import SVC\n",
    "import numpy as np\n",
    "import pandas as pd\n",
    "from sklearn.preprocessing import MinMaxScaler"
   ],
   "metadata": {
    "collapsed": false,
    "ExecuteTime": {
     "end_time": "2024-02-15T20:18:02.322834Z",
     "start_time": "2024-02-15T20:18:00.904964300Z"
    }
   }
  },
  {
   "cell_type": "code",
   "execution_count": 2,
   "outputs": [],
   "source": [
    "X_train, X_test, y_train, y_test, data, feature_columns, categorical_features, target_column = loadData()"
   ],
   "metadata": {
    "collapsed": false,
    "ExecuteTime": {
     "end_time": "2024-02-15T20:18:07.952362900Z",
     "start_time": "2024-02-15T20:18:05.028177200Z"
    }
   }
  },
  {
   "cell_type": "code",
   "execution_count": 3,
   "outputs": [],
   "source": [
    "scaling = MinMaxScaler(feature_range=(-1,1)).fit(X_train)\n",
    "X_train = scaling.transform(X_train)\n",
    "X_test = scaling.transform(X_test)"
   ],
   "metadata": {
    "collapsed": false,
    "ExecuteTime": {
     "end_time": "2024-02-15T20:18:11.380734200Z",
     "start_time": "2024-02-15T20:18:11.121404500Z"
    }
   }
  },
  {
   "cell_type": "code",
   "execution_count": 3,
   "outputs": [],
   "source": [
    "# Dimensionalität entspricht der Anzahl der Features (Merkmale) in unserem Falle X Features.\n",
    "pca = PCA(n_components=0.95)\n",
    "# Das Argument n_components=0.95 in der PCA-Funktion von sklearn.decomposition gibt an,\n",
    "# dass die Anzahl der Komponenten für die Hauptkomponentenanalyse (PCA) so gewählt werden soll,\n",
    "# dass mindestens 95% der Varianz der ursprünglichen Daten erhalten bleiben. Es handelt sich\n",
    "# hierbei um eine Form der Dimensionsreduktion, bei der nicht eine feste Anzahl von\n",
    "# Hauptkomponenten vorgegeben wird, sondern die minimale Anzahl von Komponenten, die benötigt\n",
    "# wird, um einen Großteil der Datenvarianz zu erfassen.\n",
    "X_train_pca = pca.fit_transform(X_train)\n",
    "X_test_pca = pca.transform(X_test)"
   ],
   "metadata": {
    "collapsed": false,
    "ExecuteTime": {
     "end_time": "2024-02-15T19:44:58.512262700Z",
     "start_time": "2024-02-15T19:44:58.305708600Z"
    }
   }
  },
  {
   "cell_type": "code",
   "execution_count": null,
   "outputs": [],
   "source": [
    "# Kernel: linear\n",
    "svm_clf_linear = SVC(kernel='linear')\n",
    "svm_clf_linear.fit(X_train, y_train)\n",
    "y_pred_svm_linear = svm_clf_linear.predict(X_test)\n",
    "accuracy_svm_linear = accuracy_score(y_test, y_pred_svm_linear)\n",
    "f1_svm_linear = f1_score(y_test, y_pred_svm_linear, average='weighted')\n",
    "precision_svm_linear = precision_score(y_test, y_pred_svm_linear, average='weighted')\n",
    "recall_svm_linear = recall_score(y_test, y_pred_svm_linear, average='weighted')\n",
    "\n",
    "print(\"Metrics for linear kernel:\")\n",
    "print(f\"Accuracy: {accuracy_svm_linear:.4f}, F1-Score: {f1_svm_linear:.4f}, Precision: {precision_svm_linear:.4f}, Recall: {recall_svm_linear:.4f}\\n\")"
   ],
   "metadata": {
    "collapsed": false,
    "is_executing": true,
    "ExecuteTime": {
     "start_time": "2024-02-15T20:18:18.398249800Z"
    }
   }
  },
  {
   "cell_type": "code",
   "execution_count": 8,
   "outputs": [
    {
     "name": "stdout",
     "output_type": "stream",
     "text": [
      "Metrics for poly kernel:\n",
      "Accuracy: 0.7107, F1-Score: 0.6027, Precision: 0.5576, Recall: 0.7107\n",
      "\n"
     ]
    },
    {
     "name": "stderr",
     "output_type": "stream",
     "text": [
      "c:\\users\\hassanalhawari\\appdata\\local\\programs\\python\\python39\\lib\\site-packages\\sklearn\\metrics\\_classification.py:1497: UndefinedMetricWarning: Precision is ill-defined and being set to 0.0 in labels with no predicted samples. Use `zero_division` parameter to control this behavior.\n",
      "  _warn_prf(average, modifier, f\"{metric.capitalize()} is\", len(result))\n"
     ]
    }
   ],
   "source": [
    "# Kernel: poly\n",
    "svm_clf_poly = SVC(kernel='poly')\n",
    "svm_clf_poly.fit(X_train, y_train)\n",
    "y_pred_svm_poly = svm_clf_poly.predict(X_test)\n",
    "\n",
    "accuracy_svm_poly = accuracy_score(y_test, y_pred_svm_poly)\n",
    "f1_svm_poly = f1_score(y_test, y_pred_svm_poly, average='weighted')\n",
    "precision_svm_poly = precision_score(y_test, y_pred_svm_poly, average='weighted')\n",
    "recall_svm_poly = recall_score(y_test, y_pred_svm_poly, average='weighted')\n",
    "\n",
    "# Ausgabe\n",
    "print(\"Metrics for poly kernel:\")\n",
    "print(f\"Accuracy: {accuracy_svm_poly:.4f}, F1-Score: {f1_svm_poly:.4f}, Precision: {precision_svm_poly:.4f}, Recall: {recall_svm_poly:.4f}\\n\")"
   ],
   "metadata": {
    "collapsed": false,
    "ExecuteTime": {
     "end_time": "2024-02-15T20:00:03.644127700Z",
     "start_time": "2024-02-15T20:00:01.285486700Z"
    }
   }
  },
  {
   "cell_type": "code",
   "execution_count": 9,
   "outputs": [
    {
     "name": "stdout",
     "output_type": "stream",
     "text": [
      "Metrics for rbf kernel:\n",
      "Accuracy: 0.7147, F1-Score: 0.5976, Precision: 0.6019, Recall: 0.7147\n",
      "\n"
     ]
    },
    {
     "name": "stderr",
     "output_type": "stream",
     "text": [
      "c:\\users\\hassanalhawari\\appdata\\local\\programs\\python\\python39\\lib\\site-packages\\sklearn\\metrics\\_classification.py:1497: UndefinedMetricWarning: Precision is ill-defined and being set to 0.0 in labels with no predicted samples. Use `zero_division` parameter to control this behavior.\n",
      "  _warn_prf(average, modifier, f\"{metric.capitalize()} is\", len(result))\n"
     ]
    }
   ],
   "source": [
    "# Kernel: rbf\n",
    "svm_clf_rbf = SVC(kernel='rbf')\n",
    "svm_clf_rbf.fit(X_train, y_train)\n",
    "y_pred_svm_rbf = svm_clf_rbf.predict(X_test)\n",
    "\n",
    "accuracy_svm_rbf = accuracy_score(y_test, y_pred_svm_rbf)\n",
    "f1_svm_rbf = f1_score(y_test, y_pred_svm_rbf, average='weighted')\n",
    "precision_svm_rbf = precision_score(y_test, y_pred_svm_rbf, average='weighted')\n",
    "recall_svm_rbf = recall_score(y_test, y_pred_svm_rbf, average='weighted')\n",
    "\n",
    "# Ausgabe\n",
    "print(\"Metrics for rbf kernel:\")\n",
    "print(f\"Accuracy: {accuracy_svm_rbf:.4f}, F1-Score: {f1_svm_rbf:.4f}, Precision: {precision_svm_rbf:.4f}, Recall: {recall_svm_rbf:.4f}\\n\")"
   ],
   "metadata": {
    "collapsed": false,
    "ExecuteTime": {
     "end_time": "2024-02-15T20:01:29.169163500Z",
     "start_time": "2024-02-15T20:01:25.873925900Z"
    }
   }
  },
  {
   "cell_type": "code",
   "execution_count": 11,
   "outputs": [
    {
     "name": "stdout",
     "output_type": "stream",
     "text": [
      "Metrics for sigmoid kernel:\n",
      "Accuracy: 0.6044, F1-Score: 0.5883, Precision: 0.5781, Recall: 0.6044\n",
      "\n"
     ]
    },
    {
     "name": "stderr",
     "output_type": "stream",
     "text": [
      "c:\\users\\hassanalhawari\\appdata\\local\\programs\\python\\python39\\lib\\site-packages\\sklearn\\metrics\\_classification.py:1497: UndefinedMetricWarning: Precision is ill-defined and being set to 0.0 in labels with no predicted samples. Use `zero_division` parameter to control this behavior.\n",
      "  _warn_prf(average, modifier, f\"{metric.capitalize()} is\", len(result))\n"
     ]
    }
   ],
   "source": [
    "# Kernel: sigmoid\n",
    "svm_clf_sigmoid = SVC(kernel='sigmoid')\n",
    "svm_clf_sigmoid.fit(X_train, y_train)\n",
    "y_pred_svm_sigmoid = svm_clf_sigmoid.predict(X_test)\n",
    "\n",
    "accuracy_svm_sigmoid = accuracy_score(y_test, y_pred_svm_sigmoid)\n",
    "f1_svm_sigmoid = f1_score(y_test, y_pred_svm_sigmoid, average='weighted')\n",
    "precision_svm_sigmoid = precision_score(y_test, y_pred_svm_sigmoid, average='weighted')\n",
    "recall_svm_sigmoid = recall_score(y_test, y_pred_svm_sigmoid, average='weighted')\n",
    "\n",
    "# Ausgabe\n",
    "print(\"Metrics for sigmoid kernel:\")\n",
    "print(f\"Accuracy: {accuracy_svm_sigmoid:.4f}, F1-Score: {f1_svm_sigmoid:.4f}, Precision: {precision_svm_sigmoid:.4f}, Recall: {recall_svm_sigmoid:.4f}\\n\")"
   ],
   "metadata": {
    "collapsed": false,
    "ExecuteTime": {
     "end_time": "2024-02-15T20:01:50.163083900Z",
     "start_time": "2024-02-15T20:01:47.937428500Z"
    }
   }
  },
  {
   "cell_type": "code",
   "execution_count": null,
   "outputs": [],
   "source": [],
   "metadata": {
    "collapsed": false
   }
  }
 ],
 "metadata": {
  "kernelspec": {
   "display_name": "Python 3",
   "language": "python",
   "name": "python3"
  },
  "language_info": {
   "codemirror_mode": {
    "name": "ipython",
    "version": 2
   },
   "file_extension": ".py",
   "mimetype": "text/x-python",
   "name": "python",
   "nbconvert_exporter": "python",
   "pygments_lexer": "ipython2",
   "version": "2.7.6"
  }
 },
 "nbformat": 4,
 "nbformat_minor": 0
}
