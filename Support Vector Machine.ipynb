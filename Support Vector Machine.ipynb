{
 "cells": [
  {
   "cell_type": "code",
   "execution_count": 1,
   "outputs": [],
   "source": [
    "from Features import FeatureColumns\n",
    "from TrainTestData import loadData\n",
    "from sklearn.model_selection import train_test_split\n",
    "from sklearn.preprocessing import OneHotEncoder\n",
    "from sklearn.preprocessing import LabelEncoder\n",
    "from sklearn.compose import ColumnTransformer\n",
    "from sklearn.metrics import accuracy_score, f1_score, precision_score, recall_score\n",
    "from sklearn.svm import SVC\n",
    "import numpy as np\n",
    "import pandas as pd"
   ],
   "metadata": {
    "collapsed": false,
    "ExecuteTime": {
     "end_time": "2024-02-15T18:36:46.582680600Z",
     "start_time": "2024-02-15T18:36:44.895685Z"
    }
   }
  },
  {
   "cell_type": "code",
   "execution_count": 2,
   "outputs": [],
   "source": [
    "X_train, X_test, y_train, y_test = loadData()"
   ],
   "metadata": {
    "collapsed": false,
    "ExecuteTime": {
     "end_time": "2024-02-15T18:36:52.139733100Z",
     "start_time": "2024-02-15T18:36:51.980222700Z"
    }
   }
  },
  {
   "cell_type": "code",
   "execution_count": null,
   "outputs": [],
   "source": [
    "# Kernel: linear\n",
    "svm_clf_linear = SVC(kernel='linear')\n",
    "svm_clf_linear.fit(X_train, y_train)\n",
    "y_pred_svm_linear = svm_clf_linear.predict(X_test)\n",
    "accuracy_svm_linear = accuracy_score(y_test, y_pred_svm_linear)\n",
    "f1_svm_linear = f1_score(y_test, y_pred_svm_linear, average='weighted')\n",
    "precision_svm_linear = precision_score(y_test, y_pred_svm_linear, average='weighted')\n",
    "recall_svm_linear = recall_score(y_test, y_pred_svm_linear, average='weighted')\n",
    "\n",
    "print(\"Metrics for linear kernel:\")\n",
    "print(f\"Accuracy: {accuracy_svm_linear:.4f}, F1-Score: {f1_svm_linear:.4f}, Precision: {precision_svm_linear:.4f}, Recall: {recall_svm_linear:.4f}\\n\")"
   ],
   "metadata": {
    "collapsed": false,
    "is_executing": true,
    "ExecuteTime": {
     "start_time": "2024-02-15T18:40:00.505968500Z"
    }
   }
  },
  {
   "cell_type": "code",
   "execution_count": null,
   "outputs": [],
   "source": [
    "# Kernel: poly\n",
    "svm_clf_poly = SVC(kernel='poly')\n",
    "svm_clf_poly.fit(X_train, y_train)\n",
    "y_pred_svm_poly = svm_clf_poly.predict(X_test)\n",
    "\n",
    "accuracy_svm_poly = accuracy_score(y_test, y_pred_svm_poly)\n",
    "f1_svm_poly = f1_score(y_test, y_pred_svm_poly, average='weighted')\n",
    "precision_svm_poly = precision_score(y_test, y_pred_svm_poly, average='weighted')\n",
    "recall_svm_poly = recall_score(y_test, y_pred_svm_poly, average='weighted')\n",
    "\n",
    "# Ausgabe\n",
    "print(\"Metrics for poly kernel:\")\n",
    "print(f\"Accuracy: {accuracy_svm_poly:.4f}, F1-Score: {f1_svm_poly:.4f}, Precision: {precision_svm_poly:.4f}, Recall: {recall_svm_poly:.4f}\\n\")"
   ],
   "metadata": {
    "collapsed": false,
    "is_executing": true
   }
  },
  {
   "cell_type": "code",
   "execution_count": null,
   "outputs": [],
   "source": [
    "# Kernel: rbf\n",
    "svm_clf_rbf = SVC(kernel='rbf')\n",
    "svm_clf_rbf.fit(X_train, y_train)\n",
    "y_pred_svm_rbf = svm_clf_rbf.predict(X_test)\n",
    "\n",
    "accuracy_svm_rbf = accuracy_score(y_test, y_pred_svm_rbf)\n",
    "f1_svm_rbf = f1_score(y_test, y_pred_svm_rbf, average='weighted')\n",
    "precision_svm_rbf = precision_score(y_test, y_pred_svm_rbf, average='weighted')\n",
    "recall_svm_rbf = recall_score(y_test, y_pred_svm_rbf, average='weighted')\n",
    "\n",
    "# Ausgabe\n",
    "print(\"Metrics for rbf kernel:\")\n",
    "print(f\"Accuracy: {accuracy_svm_rbf:.4f}, F1-Score: {f1_svm_rbf:.4f}, Precision: {precision_svm_rbf:.4f}, Recall: {recall_svm_rbf:.4f}\\n\")"
   ],
   "metadata": {
    "collapsed": false,
    "is_executing": true
   }
  },
  {
   "cell_type": "code",
   "execution_count": null,
   "outputs": [],
   "source": [
    "# Kernel: sigmoid\n",
    "svm_clf_sigmoid = SVC(kernel='sigmoid')\n",
    "svm_clf_sigmoid.fit(X_train, y_train)\n",
    "y_pred_svm_sigmoid = svm_clf_sigmoid.predict(X_test)\n",
    "\n",
    "accuracy_svm_sigmoid = accuracy_score(y_test, y_pred_svm_sigmoid)\n",
    "f1_svm_sigmoid = f1_score(y_test, y_pred_svm_sigmoid, average='weighted')\n",
    "precision_svm_sigmoid = precision_score(y_test, y_pred_svm_sigmoid, average='weighted')\n",
    "recall_svm_sigmoid = recall_score(y_test, y_pred_svm_sigmoid, average='weighted')\n",
    "\n",
    "# Ausgabe\n",
    "print(\"Metrics for sigmoid kernel:\")\n",
    "print(f\"Accuracy: {accuracy_svm_sigmoid:.4f}, F1-Score: {f1_svm_sigmoid:.4f}, Precision: {precision_svm_sigmoid:.4f}, Recall: {recall_svm_sigmoid:.4f}\\n\")"
   ],
   "metadata": {
    "collapsed": false,
    "is_executing": true
   }
  }
 ],
 "metadata": {
  "kernelspec": {
   "display_name": "Python 3",
   "language": "python",
   "name": "python3"
  },
  "language_info": {
   "codemirror_mode": {
    "name": "ipython",
    "version": 2
   },
   "file_extension": ".py",
   "mimetype": "text/x-python",
   "name": "python",
   "nbconvert_exporter": "python",
   "pygments_lexer": "ipython2",
   "version": "2.7.6"
  }
 },
 "nbformat": 4,
 "nbformat_minor": 0
}
