{
 "cells": [
  {
   "cell_type": "code",
   "execution_count": 1,
   "outputs": [
    {
     "name": "stdout",
     "output_type": "stream",
     "text": [
      "        LARCENY.THEFT  ASSAULT  DRUG.NARCOTIC  VEHICLE.THEFT  BURGLARY\n",
      "0                   0        0              0              0         0\n",
      "1                   0        0              0              0         0\n",
      "2                   0        0              0              0         0\n",
      "3                   0        0              0              0         0\n",
      "4                   0        0              0              0         0\n",
      "...               ...      ...            ...            ...       ...\n",
      "884257              0        0              0              0         0\n",
      "884258              0        0              0              0         0\n",
      "884259              0        0              0              0         0\n",
      "884260              0        0              0              0         0\n",
      "884261              0        0              0              0         0\n",
      "\n",
      "[884262 rows x 5 columns]\n"
     ]
    }
   ],
   "source": [
    "import pandas as pd\n",
    "\n",
    "file_path = 'sampleSubmission_selected.csv'\n",
    "df = pd.read_csv(file_path)"
   ],
   "metadata": {
    "collapsed": false,
    "ExecuteTime": {
     "end_time": "2023-12-04T12:09:42.380090900Z",
     "start_time": "2023-12-04T12:09:42.021811200Z"
    }
   }
  },
  {
   "cell_type": "code",
   "execution_count": 8,
   "outputs": [
    {
     "ename": "ValueError",
     "evalue": "I/O operation on closed file.",
     "output_type": "error",
     "traceback": [
      "\u001B[1;31m---------------------------------------------------------------------------\u001B[0m",
      "\u001B[1;31mValueError\u001B[0m                                Traceback (most recent call last)",
      "Cell \u001B[1;32mIn[8], line 1\u001B[0m\n\u001B[1;32m----> 1\u001B[0m \u001B[38;5;28;01mfor\u001B[39;00m row \u001B[38;5;129;01min\u001B[39;00m reader:\n\u001B[0;32m      2\u001B[0m         \u001B[38;5;28mprint\u001B[39m(row)\n",
      "\u001B[1;31mValueError\u001B[0m: I/O operation on closed file."
     ]
    }
   ],
   "source": [],
   "metadata": {
    "collapsed": false,
    "ExecuteTime": {
     "end_time": "2023-12-02T12:45:56.304374700Z",
     "start_time": "2023-12-02T12:45:56.276185500Z"
    }
   }
  },
  {
   "cell_type": "code",
   "execution_count": null,
   "outputs": [],
   "source": [],
   "metadata": {
    "collapsed": false
   }
  }
 ],
 "metadata": {
  "kernelspec": {
   "display_name": "Python 3",
   "language": "python",
   "name": "python3"
  },
  "language_info": {
   "codemirror_mode": {
    "name": "ipython",
    "version": 2
   },
   "file_extension": ".py",
   "mimetype": "text/x-python",
   "name": "python",
   "nbconvert_exporter": "python",
   "pygments_lexer": "ipython2",
   "version": "2.7.6"
  }
 },
 "nbformat": 4,
 "nbformat_minor": 0
}
