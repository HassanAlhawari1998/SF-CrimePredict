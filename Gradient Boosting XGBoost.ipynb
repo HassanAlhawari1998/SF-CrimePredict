{
 "cells": [
  {
   "cell_type": "code",
   "execution_count": 7,
   "outputs": [],
   "source": [
    "from sklearn.model_selection import train_test_split, cross_val_score\n",
    "from sklearn.preprocessing import OneHotEncoder\n",
    "from sklearn.preprocessing import LabelEncoder\n",
    "from sklearn.compose import ColumnTransformer\n",
    "from sklearn.metrics import accuracy_score, f1_score, precision_score, recall_score, roc_auc_score, log_loss, mean_squared_error\n",
    "from sklearn.preprocessing import LabelBinarizer\n",
    "from xgboost import XGBClassifier\n",
    "import numpy as np\n",
    "import pandas as pd\n",
    "pd.options.mode.chained_assignment = None"
   ],
   "metadata": {
    "collapsed": false,
    "ExecuteTime": {
     "end_time": "2024-02-12T20:00:59.173411500Z",
     "start_time": "2024-02-12T20:00:59.161880Z"
    }
   }
  },
  {
   "cell_type": "code",
   "execution_count": 8,
   "outputs": [
    {
     "name": "stderr",
     "output_type": "stream",
     "text": [
      "C:\\Users\\Tobia\\AppData\\Local\\Temp\\ipykernel_6648\\1923731555.py:3: DtypeWarning: Columns (1,2,3,4,5,6,7,10,15,16) have mixed types. Specify dtype option on import or set low_memory=False.\n",
      "  data = pd.read_csv(data_path)\n"
     ]
    }
   ],
   "source": [
    "# Laden der Daten\n",
    "data_path = 'train_with_feature_test.csv'\n",
    "data = pd.read_csv(data_path)\n",
    "data_cleaned = data.dropna()"
   ],
   "metadata": {
    "collapsed": false,
    "ExecuteTime": {
     "end_time": "2024-02-12T20:01:02.689161200Z",
     "start_time": "2024-02-12T20:01:02.042051200Z"
    }
   }
  },
  {
   "cell_type": "code",
   "execution_count": 9,
   "outputs": [],
   "source": [
    "# Spalten für das Modell (vereinfachte Auswahl für die Demonstration)\n",
    "feature_columns = ['DayOfWeek', 'PdDistrict', 'X', 'Y', 'Min.TemperatureF', 'Mean.TemperatureF', 'Max.TemperatureF', 'Mean.Humidity','Events', 'season']\n",
    "# Zielvariable\n",
    "target_column = 'Category'"
   ],
   "metadata": {
    "collapsed": false,
    "ExecuteTime": {
     "end_time": "2024-02-12T20:01:06.215442600Z",
     "start_time": "2024-02-12T20:01:06.206600Z"
    }
   }
  },
  {
   "cell_type": "code",
   "execution_count": 10,
   "outputs": [
    {
     "name": "stderr",
     "output_type": "stream",
     "text": [
      "C:\\Users\\Tobia\\PycharmProjects\\SF-CrimePredict\\venv\\lib\\site-packages\\sklearn\\preprocessing\\_encoders.py:975: FutureWarning: `sparse` was renamed to `sparse_output` in version 1.2 and will be removed in 1.4. `sparse_output` is ignored unless you leave `sparse` to its default value.\n",
      "  warnings.warn(\n"
     ]
    },
    {
     "data": {
      "text/plain": "            X          Y  Min.TemperatureF  Mean.TemperatureF  \\\n0 -122.426995  37.800873              52.0               59.0   \n1 -122.438738  37.771541              52.0               59.0   \n2 -122.403252  37.713431              52.0               59.0   \n3 -122.423327  37.725138              52.0               59.0   \n4 -122.371274  37.727564              52.0               59.0   \n\n   Max.TemperatureF  Mean.Humidity  DayOfWeek_Friday  DayOfWeek_Monday  \\\n0              65.0           61.0               0.0               0.0   \n1              65.0           61.0               0.0               0.0   \n2              65.0           61.0               0.0               0.0   \n3              65.0           61.0               0.0               0.0   \n4              65.0           61.0               0.0               0.0   \n\n   DayOfWeek_Saturday  DayOfWeek_Sunday  ...  Events_Clear  Events_Fog  \\\n0                 0.0               0.0  ...           1.0         0.0   \n1                 0.0               0.0  ...           1.0         0.0   \n2                 0.0               0.0  ...           1.0         0.0   \n3                 0.0               0.0  ...           1.0         0.0   \n4                 0.0               0.0  ...           1.0         0.0   \n\n   Events_Fog-Rain  Events_Rain  Events_Rain-Thunderstorm  \\\n0              0.0          0.0                       0.0   \n1              0.0          0.0                       0.0   \n2              0.0          0.0                       0.0   \n3              0.0          0.0                       0.0   \n4              0.0          0.0                       0.0   \n\n   Events_Thunderstorm  season_Autumn  season_Spring  season_Summer  \\\n0                  0.0            0.0            1.0            0.0   \n1                  0.0            0.0            1.0            0.0   \n2                  0.0            0.0            1.0            0.0   \n3                  0.0            0.0            1.0            0.0   \n4                  0.0            0.0            1.0            0.0   \n\n   season_Winter  \n0            0.0  \n1            0.0  \n2            0.0  \n3            0.0  \n4            0.0  \n\n[5 rows x 33 columns]",
      "text/html": "<div>\n<style scoped>\n    .dataframe tbody tr th:only-of-type {\n        vertical-align: middle;\n    }\n\n    .dataframe tbody tr th {\n        vertical-align: top;\n    }\n\n    .dataframe thead th {\n        text-align: right;\n    }\n</style>\n<table border=\"1\" class=\"dataframe\">\n  <thead>\n    <tr style=\"text-align: right;\">\n      <th></th>\n      <th>X</th>\n      <th>Y</th>\n      <th>Min.TemperatureF</th>\n      <th>Mean.TemperatureF</th>\n      <th>Max.TemperatureF</th>\n      <th>Mean.Humidity</th>\n      <th>DayOfWeek_Friday</th>\n      <th>DayOfWeek_Monday</th>\n      <th>DayOfWeek_Saturday</th>\n      <th>DayOfWeek_Sunday</th>\n      <th>...</th>\n      <th>Events_Clear</th>\n      <th>Events_Fog</th>\n      <th>Events_Fog-Rain</th>\n      <th>Events_Rain</th>\n      <th>Events_Rain-Thunderstorm</th>\n      <th>Events_Thunderstorm</th>\n      <th>season_Autumn</th>\n      <th>season_Spring</th>\n      <th>season_Summer</th>\n      <th>season_Winter</th>\n    </tr>\n  </thead>\n  <tbody>\n    <tr>\n      <th>0</th>\n      <td>-122.426995</td>\n      <td>37.800873</td>\n      <td>52.0</td>\n      <td>59.0</td>\n      <td>65.0</td>\n      <td>61.0</td>\n      <td>0.0</td>\n      <td>0.0</td>\n      <td>0.0</td>\n      <td>0.0</td>\n      <td>...</td>\n      <td>1.0</td>\n      <td>0.0</td>\n      <td>0.0</td>\n      <td>0.0</td>\n      <td>0.0</td>\n      <td>0.0</td>\n      <td>0.0</td>\n      <td>1.0</td>\n      <td>0.0</td>\n      <td>0.0</td>\n    </tr>\n    <tr>\n      <th>1</th>\n      <td>-122.438738</td>\n      <td>37.771541</td>\n      <td>52.0</td>\n      <td>59.0</td>\n      <td>65.0</td>\n      <td>61.0</td>\n      <td>0.0</td>\n      <td>0.0</td>\n      <td>0.0</td>\n      <td>0.0</td>\n      <td>...</td>\n      <td>1.0</td>\n      <td>0.0</td>\n      <td>0.0</td>\n      <td>0.0</td>\n      <td>0.0</td>\n      <td>0.0</td>\n      <td>0.0</td>\n      <td>1.0</td>\n      <td>0.0</td>\n      <td>0.0</td>\n    </tr>\n    <tr>\n      <th>2</th>\n      <td>-122.403252</td>\n      <td>37.713431</td>\n      <td>52.0</td>\n      <td>59.0</td>\n      <td>65.0</td>\n      <td>61.0</td>\n      <td>0.0</td>\n      <td>0.0</td>\n      <td>0.0</td>\n      <td>0.0</td>\n      <td>...</td>\n      <td>1.0</td>\n      <td>0.0</td>\n      <td>0.0</td>\n      <td>0.0</td>\n      <td>0.0</td>\n      <td>0.0</td>\n      <td>0.0</td>\n      <td>1.0</td>\n      <td>0.0</td>\n      <td>0.0</td>\n    </tr>\n    <tr>\n      <th>3</th>\n      <td>-122.423327</td>\n      <td>37.725138</td>\n      <td>52.0</td>\n      <td>59.0</td>\n      <td>65.0</td>\n      <td>61.0</td>\n      <td>0.0</td>\n      <td>0.0</td>\n      <td>0.0</td>\n      <td>0.0</td>\n      <td>...</td>\n      <td>1.0</td>\n      <td>0.0</td>\n      <td>0.0</td>\n      <td>0.0</td>\n      <td>0.0</td>\n      <td>0.0</td>\n      <td>0.0</td>\n      <td>1.0</td>\n      <td>0.0</td>\n      <td>0.0</td>\n    </tr>\n    <tr>\n      <th>4</th>\n      <td>-122.371274</td>\n      <td>37.727564</td>\n      <td>52.0</td>\n      <td>59.0</td>\n      <td>65.0</td>\n      <td>61.0</td>\n      <td>0.0</td>\n      <td>0.0</td>\n      <td>0.0</td>\n      <td>0.0</td>\n      <td>...</td>\n      <td>1.0</td>\n      <td>0.0</td>\n      <td>0.0</td>\n      <td>0.0</td>\n      <td>0.0</td>\n      <td>0.0</td>\n      <td>0.0</td>\n      <td>1.0</td>\n      <td>0.0</td>\n      <td>0.0</td>\n    </tr>\n  </tbody>\n</table>\n<p>5 rows × 33 columns</p>\n</div>"
     },
     "execution_count": 10,
     "metadata": {},
     "output_type": "execute_result"
    }
   ],
   "source": [
    "# Identifizieren der kategorischen und numerischen Variablen\n",
    "categorical_features = [col for col in feature_columns if data_cleaned[col].dtype == 'object']\n",
    "numerical_features = [col for col in feature_columns if col not in categorical_features]\n",
    "\n",
    "# Vorbereiten des ColumnTransformers, um OneHotEncoding nur auf kategorischen Variablen anzuwenden\n",
    "preprocessor = ColumnTransformer(\n",
    "    transformers=[\n",
    "        ('num', 'passthrough', numerical_features),\n",
    "        ('cat', OneHotEncoder(sparse=False, handle_unknown='ignore'), categorical_features)\n",
    "    ]\n",
    ")\n",
    "\n",
    "# Vorbereiten der Features und Zielvariable\n",
    "X = data_cleaned[feature_columns]\n",
    "y = data_cleaned[target_column]\n",
    "\n",
    "# Anwenden des Preprocessors\n",
    "X_processed = preprocessor.fit_transform(X)\n",
    "\n",
    "# Umwandlung des Ergebnisses zurück in ein DataFrame\n",
    "# Für die kategorischen Features Namen aus dem Encoder extrahieren\n",
    "encoded_feature_names = preprocessor.named_transformers_['cat'].get_feature_names_out(categorical_features)\n",
    "# Gesamtnamen der Features nach der Verarbeitung\n",
    "all_feature_names = np.concatenate([numerical_features, encoded_feature_names])\n",
    "\n",
    "# Erstellen des finalen DataFrames\n",
    "X_final = pd.DataFrame(X_processed, columns=all_feature_names)\n",
    "\n",
    "X_final.head()  # Zeigt die ersten Zeilen des verarbeiteten DataFrames\n"
   ],
   "metadata": {
    "collapsed": false,
    "ExecuteTime": {
     "end_time": "2024-02-12T20:01:13.417200900Z",
     "start_time": "2024-02-12T20:01:13.259887500Z"
    }
   }
  },
  {
   "cell_type": "code",
   "execution_count": 11,
   "outputs": [
    {
     "name": "stdout",
     "output_type": "stream",
     "text": [
      "Genauigkeit (Accuracy): 0.5578\n",
      "F1-Score: 0.4831\n",
      "Präzision (Precision): 0.5037\n",
      "Recall: 0.5578\n",
      "ROC-AUC Score: 0.7398\n",
      "Log Loss: 1.1615\n"
     ]
    }
   ],
   "source": [
    "# Aufteilung der Daten in Trainings- und Testsets\n",
    "X_train, X_test, y_train, y_test = train_test_split(X_final, y, test_size=0.2, random_state=42)\n",
    "\n",
    "# Initialisieren des XGBoost Classifiers\n",
    "xgb_clf = XGBClassifier(use_label_encoder=False, eval_metric='mlogloss')\n",
    "\n",
    "# Initialisieren des LabelEncoders\n",
    "label_encoder = LabelEncoder()\n",
    "\n",
    "# Anpassen des Encoders an die gesamten Labels\n",
    "# Hinweis: Hier nehmen wir an, dass `data[target_column]` alle möglichen Labels enthält.\n",
    "label_encoder.fit(data[target_column])\n",
    "\n",
    "# Transformieren der Zielvariablen in Trainings- und Testdatensätzen in numerische Werte\n",
    "y_train = label_encoder.transform(y_train)\n",
    "y_test = label_encoder.transform(y_test)\n",
    "\n",
    "# Training des Classifiers\n",
    "xgb_clf.fit(X_train, y_train)\n",
    "\n",
    "# Vorhersagen auf dem Testset\n",
    "y_pred = xgb_clf.predict(X_test)\n",
    "\n",
    "# Vorhersagen der Wahrscheinlichkeiten für das Testset, um ROC-AUC und Log Loss zu berechnen\n",
    "y_pred_proba = xgb_clf.predict_proba(X_test)\n",
    "\n",
    "# Berechnung der verschiedenen Metriken\n",
    "accuracy = accuracy_score(y_test, y_pred)\n",
    "f1 = f1_score(y_test, y_pred, average='weighted')  # 'weighted' berücksichtigt Label-Unausgewogenheit\n",
    "precision = precision_score(y_test, y_pred, average='weighted')\n",
    "recall = recall_score(y_test, y_pred, average='weighted')\n",
    "\n",
    "# ROC-AUC Score erfordert binarisierte Labels für Mehrklassenklassifikation\n",
    "lb = LabelBinarizer()\n",
    "lb.fit(y_test)\n",
    "y_test_binarized = lb.transform(y_test)\n",
    "y_pred_binarized = lb.transform(y_pred)\n",
    "\n",
    "roc_auc = roc_auc_score(y_test_binarized, y_pred_proba, multi_class='ovo', average='weighted')\n",
    "logloss = log_loss(y_test, y_pred_proba)\n",
    "\n",
    "\n",
    "# Ausgabe der Metriken\n",
    "print(f\"Genauigkeit (Accuracy): {accuracy:.4f}\")\n",
    "print(f\"F1-Score: {f1:.4f}\")\n",
    "print(f\"Präzision (Precision): {precision:.4f}\")\n",
    "print(f\"Recall: {recall:.4f}\")\n",
    "print(f\"ROC-AUC Score: {roc_auc:.4f}\")\n",
    "print(f\"Log Loss: {logloss:.4f}\")"
   ],
   "metadata": {
    "collapsed": false,
    "ExecuteTime": {
     "end_time": "2024-02-12T20:10:26.003839600Z",
     "start_time": "2024-02-12T20:01:15.855973800Z"
    }
   }
  },
  {
   "cell_type": "code",
   "execution_count": null,
   "outputs": [],
   "source": [],
   "metadata": {
    "collapsed": false
   }
  }
 ],
 "metadata": {
  "kernelspec": {
   "display_name": "Python 3",
   "language": "python",
   "name": "python3"
  },
  "language_info": {
   "codemirror_mode": {
    "name": "ipython",
    "version": 2
   },
   "file_extension": ".py",
   "mimetype": "text/x-python",
   "name": "python",
   "nbconvert_exporter": "python",
   "pygments_lexer": "ipython2",
   "version": "2.7.6"
  }
 },
 "nbformat": 4,
 "nbformat_minor": 0
}
