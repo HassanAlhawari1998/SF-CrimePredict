{
 "cells": [
  {
   "cell_type": "markdown",
   "source": [
    "| Links ausgerichtet | Mittig ausgerichtet | Rechts ausgerichtet |\n",
    "|:------------------ |:-------------------:| -------------------:|\n",
    "| Inhalt             | Inhalt              | Inhalt              |\n",
    "| Inhalt             | Inhalt              | Inhalt              |\n"
   ],
   "metadata": {
    "collapsed": false
   }
  },
  {
   "cell_type": "code",
   "execution_count": 9,
   "metadata": {
    "collapsed": true
   },
   "outputs": [],
   "source": [
    "from sklearn.metrics import accuracy_score, f1_score, precision_score, recall_score, roc_auc_score, log_loss, mean_squared_error\n",
    "from sklearn.preprocessing import LabelBinarizer\n",
    "from sklearn.ensemble import RandomForestClassifier\n",
    "from sklearn.model_selection import cross_validate\n",
    "from sklearn.metrics import accuracy_score, f1_score, precision_score, recall_score, roc_auc_score, log_loss, mean_squared_error\n",
    "\n",
    "import numpy as np\n",
    "import pandas as pd\n",
    "\n",
    "from Helper.Data import loadData\n",
    "from Helper.Perform_CrossVal import perform_cross_validation\n",
    "from Helper.Perform_GridSearch import perform_grid_search\n",
    "import pickle\n",
    "\n",
    "\n",
    "pd.options.mode.chained_assignment = None"
   ]
  },
  {
   "cell_type": "code",
   "execution_count": 2,
   "outputs": [
    {
     "ename": "ImportError",
     "evalue": "dlopen(/Users/muster/Desktop/CrimePredictProject/SF-CrimePredict/venv/lib/python3.9/site-packages/PIL/_imaging.cpython-39-darwin.so, 2): Library not loaded: @loader_path/libXau.6.0.0.dylib\n  Referenced from: /Users/muster/Desktop/CrimePredictProject/SF-CrimePredict/venv/lib/python3.9/site-packages/PIL/.dylibs/libxcb.1.1.0.dylib\n  Reason: no suitable image found.  Did find:\n\t/Users/muster/Desktop/CrimePredictProject/SF-CrimePredict/venv/lib/python3.9/site-packages/PIL/.dylibs/libXau.6.0.0.dylib: cannot load 'libXau.6.0.0.dylib' (load command 0x80000034 is unknown)\n\t/Users/muster/Desktop/CrimePredictProject/SF-CrimePredict/venv/lib/python3.9/site-packages/PIL/.dylibs/libXau.6.0.0.dylib: cannot load 'libXau.6.0.0.dylib' (load command 0x80000034 is unknown)",
     "output_type": "error",
     "traceback": [
      "\u001B[0;31m---------------------------------------------------------------------------\u001B[0m",
      "\u001B[0;31mImportError\u001B[0m                               Traceback (most recent call last)",
      "Cell \u001B[0;32mIn[2], line 1\u001B[0m\n\u001B[0;32m----> 1\u001B[0m \u001B[38;5;28;01mimport\u001B[39;00m \u001B[38;5;21;01mmatplotlib\u001B[39;00m\u001B[38;5;21;01m.\u001B[39;00m\u001B[38;5;21;01mpyplot\u001B[39;00m \u001B[38;5;28;01mas\u001B[39;00m \u001B[38;5;21;01mplt\u001B[39;00m\n",
      "File \u001B[0;32m~/Desktop/CrimePredictProject/SF-CrimePredict/venv/lib/python3.9/site-packages/matplotlib/__init__.py:161\u001B[0m\n\u001B[1;32m    157\u001B[0m \u001B[38;5;28;01mfrom\u001B[39;00m \u001B[38;5;21;01mpackaging\u001B[39;00m\u001B[38;5;21;01m.\u001B[39;00m\u001B[38;5;21;01mversion\u001B[39;00m \u001B[38;5;28;01mimport\u001B[39;00m parse \u001B[38;5;28;01mas\u001B[39;00m parse_version\n\u001B[1;32m    159\u001B[0m \u001B[38;5;66;03m# cbook must import matplotlib only within function\u001B[39;00m\n\u001B[1;32m    160\u001B[0m \u001B[38;5;66;03m# definitions, so it is safe to import from it here.\u001B[39;00m\n\u001B[0;32m--> 161\u001B[0m \u001B[38;5;28;01mfrom\u001B[39;00m \u001B[38;5;21;01m.\u001B[39;00m \u001B[38;5;28;01mimport\u001B[39;00m _api, _version, cbook, _docstring, rcsetup\n\u001B[1;32m    162\u001B[0m \u001B[38;5;28;01mfrom\u001B[39;00m \u001B[38;5;21;01mmatplotlib\u001B[39;00m\u001B[38;5;21;01m.\u001B[39;00m\u001B[38;5;21;01mcbook\u001B[39;00m \u001B[38;5;28;01mimport\u001B[39;00m sanitize_sequence\n\u001B[1;32m    163\u001B[0m \u001B[38;5;28;01mfrom\u001B[39;00m \u001B[38;5;21;01mmatplotlib\u001B[39;00m\u001B[38;5;21;01m.\u001B[39;00m\u001B[38;5;21;01m_api\u001B[39;00m \u001B[38;5;28;01mimport\u001B[39;00m MatplotlibDeprecationWarning\n",
      "File \u001B[0;32m~/Desktop/CrimePredictProject/SF-CrimePredict/venv/lib/python3.9/site-packages/matplotlib/rcsetup.py:27\u001B[0m\n\u001B[1;32m     25\u001B[0m \u001B[38;5;28;01mfrom\u001B[39;00m \u001B[38;5;21;01mmatplotlib\u001B[39;00m \u001B[38;5;28;01mimport\u001B[39;00m _api, cbook\n\u001B[1;32m     26\u001B[0m \u001B[38;5;28;01mfrom\u001B[39;00m \u001B[38;5;21;01mmatplotlib\u001B[39;00m\u001B[38;5;21;01m.\u001B[39;00m\u001B[38;5;21;01mcbook\u001B[39;00m \u001B[38;5;28;01mimport\u001B[39;00m ls_mapper\n\u001B[0;32m---> 27\u001B[0m \u001B[38;5;28;01mfrom\u001B[39;00m \u001B[38;5;21;01mmatplotlib\u001B[39;00m\u001B[38;5;21;01m.\u001B[39;00m\u001B[38;5;21;01mcolors\u001B[39;00m \u001B[38;5;28;01mimport\u001B[39;00m Colormap, is_color_like\n\u001B[1;32m     28\u001B[0m \u001B[38;5;28;01mfrom\u001B[39;00m \u001B[38;5;21;01mmatplotlib\u001B[39;00m\u001B[38;5;21;01m.\u001B[39;00m\u001B[38;5;21;01m_fontconfig_pattern\u001B[39;00m \u001B[38;5;28;01mimport\u001B[39;00m parse_fontconfig_pattern\n\u001B[1;32m     29\u001B[0m \u001B[38;5;28;01mfrom\u001B[39;00m \u001B[38;5;21;01mmatplotlib\u001B[39;00m\u001B[38;5;21;01m.\u001B[39;00m\u001B[38;5;21;01m_enums\u001B[39;00m \u001B[38;5;28;01mimport\u001B[39;00m JoinStyle, CapStyle\n",
      "File \u001B[0;32m~/Desktop/CrimePredictProject/SF-CrimePredict/venv/lib/python3.9/site-packages/matplotlib/colors.py:52\u001B[0m\n\u001B[1;32m     49\u001B[0m \u001B[38;5;28;01mfrom\u001B[39;00m \u001B[38;5;21;01mnumbers\u001B[39;00m \u001B[38;5;28;01mimport\u001B[39;00m Real\n\u001B[1;32m     50\u001B[0m \u001B[38;5;28;01mimport\u001B[39;00m \u001B[38;5;21;01mre\u001B[39;00m\n\u001B[0;32m---> 52\u001B[0m \u001B[38;5;28;01mfrom\u001B[39;00m \u001B[38;5;21;01mPIL\u001B[39;00m \u001B[38;5;28;01mimport\u001B[39;00m Image\n\u001B[1;32m     53\u001B[0m \u001B[38;5;28;01mfrom\u001B[39;00m \u001B[38;5;21;01mPIL\u001B[39;00m\u001B[38;5;21;01m.\u001B[39;00m\u001B[38;5;21;01mPngImagePlugin\u001B[39;00m \u001B[38;5;28;01mimport\u001B[39;00m PngInfo\n\u001B[1;32m     55\u001B[0m \u001B[38;5;28;01mimport\u001B[39;00m \u001B[38;5;21;01mmatplotlib\u001B[39;00m \u001B[38;5;28;01mas\u001B[39;00m \u001B[38;5;21;01mmpl\u001B[39;00m\n",
      "File \u001B[0;32m~/Desktop/CrimePredictProject/SF-CrimePredict/venv/lib/python3.9/site-packages/PIL/Image.py:84\u001B[0m\n\u001B[1;32m     75\u001B[0m MAX_IMAGE_PIXELS \u001B[38;5;241m=\u001B[39m \u001B[38;5;28mint\u001B[39m(\u001B[38;5;241m1024\u001B[39m \u001B[38;5;241m*\u001B[39m \u001B[38;5;241m1024\u001B[39m \u001B[38;5;241m*\u001B[39m \u001B[38;5;241m1024\u001B[39m \u001B[38;5;241m/\u001B[39m\u001B[38;5;241m/\u001B[39m \u001B[38;5;241m4\u001B[39m \u001B[38;5;241m/\u001B[39m\u001B[38;5;241m/\u001B[39m \u001B[38;5;241m3\u001B[39m)\n\u001B[1;32m     78\u001B[0m \u001B[38;5;28;01mtry\u001B[39;00m:\n\u001B[1;32m     79\u001B[0m     \u001B[38;5;66;03m# If the _imaging C module is not present, Pillow will not load.\u001B[39;00m\n\u001B[1;32m     80\u001B[0m     \u001B[38;5;66;03m# Note that other modules should not refer to _imaging directly;\u001B[39;00m\n\u001B[1;32m     81\u001B[0m     \u001B[38;5;66;03m# import Image and use the Image.core variable instead.\u001B[39;00m\n\u001B[1;32m     82\u001B[0m     \u001B[38;5;66;03m# Also note that Image.core is not a publicly documented interface,\u001B[39;00m\n\u001B[1;32m     83\u001B[0m     \u001B[38;5;66;03m# and should be considered private and subject to change.\u001B[39;00m\n\u001B[0;32m---> 84\u001B[0m     \u001B[38;5;28;01mfrom\u001B[39;00m \u001B[38;5;21;01m.\u001B[39;00m \u001B[38;5;28;01mimport\u001B[39;00m _imaging \u001B[38;5;28;01mas\u001B[39;00m core\n\u001B[1;32m     86\u001B[0m     \u001B[38;5;28;01mif\u001B[39;00m __version__ \u001B[38;5;241m!=\u001B[39m \u001B[38;5;28mgetattr\u001B[39m(core, \u001B[38;5;124m\"\u001B[39m\u001B[38;5;124mPILLOW_VERSION\u001B[39m\u001B[38;5;124m\"\u001B[39m, \u001B[38;5;28;01mNone\u001B[39;00m):\n\u001B[1;32m     87\u001B[0m         msg \u001B[38;5;241m=\u001B[39m (\n\u001B[1;32m     88\u001B[0m             \u001B[38;5;124m\"\u001B[39m\u001B[38;5;124mThe _imaging extension was built for another version of Pillow or PIL:\u001B[39m\u001B[38;5;130;01m\\n\u001B[39;00m\u001B[38;5;124m\"\u001B[39m\n\u001B[1;32m     89\u001B[0m             \u001B[38;5;124mf\u001B[39m\u001B[38;5;124m\"\u001B[39m\u001B[38;5;124mCore version: \u001B[39m\u001B[38;5;132;01m{\u001B[39;00m\u001B[38;5;28mgetattr\u001B[39m(core,\u001B[38;5;250m \u001B[39m\u001B[38;5;124m'\u001B[39m\u001B[38;5;124mPILLOW_VERSION\u001B[39m\u001B[38;5;124m'\u001B[39m,\u001B[38;5;250m \u001B[39m\u001B[38;5;28;01mNone\u001B[39;00m)\u001B[38;5;132;01m}\u001B[39;00m\u001B[38;5;130;01m\\n\u001B[39;00m\u001B[38;5;124m\"\u001B[39m\n\u001B[1;32m     90\u001B[0m             \u001B[38;5;124mf\u001B[39m\u001B[38;5;124m\"\u001B[39m\u001B[38;5;124mPillow version: \u001B[39m\u001B[38;5;132;01m{\u001B[39;00m__version__\u001B[38;5;132;01m}\u001B[39;00m\u001B[38;5;124m\"\u001B[39m\n\u001B[1;32m     91\u001B[0m         )\n",
      "\u001B[0;31mImportError\u001B[0m: dlopen(/Users/muster/Desktop/CrimePredictProject/SF-CrimePredict/venv/lib/python3.9/site-packages/PIL/_imaging.cpython-39-darwin.so, 2): Library not loaded: @loader_path/libXau.6.0.0.dylib\n  Referenced from: /Users/muster/Desktop/CrimePredictProject/SF-CrimePredict/venv/lib/python3.9/site-packages/PIL/.dylibs/libxcb.1.1.0.dylib\n  Reason: no suitable image found.  Did find:\n\t/Users/muster/Desktop/CrimePredictProject/SF-CrimePredict/venv/lib/python3.9/site-packages/PIL/.dylibs/libXau.6.0.0.dylib: cannot load 'libXau.6.0.0.dylib' (load command 0x80000034 is unknown)\n\t/Users/muster/Desktop/CrimePredictProject/SF-CrimePredict/venv/lib/python3.9/site-packages/PIL/.dylibs/libXau.6.0.0.dylib: cannot load 'libXau.6.0.0.dylib' (load command 0x80000034 is unknown)"
     ]
    }
   ],
   "source": [
    "import matplotlib.pyplot as plt"
   ],
   "metadata": {
    "collapsed": false
   }
  },
  {
   "cell_type": "code",
   "execution_count": 2,
   "outputs": [
    {
     "data": {
      "text/plain": "                 X          Y  DayOfWeek_Friday  DayOfWeek_Monday  \\\n0      -122.426995  37.800873               0.0               0.0   \n1      -122.438738  37.771541               0.0               0.0   \n2      -122.403252  37.713431               0.0               0.0   \n3      -122.423327  37.725138               0.0               0.0   \n4      -122.371274  37.727564               0.0               0.0   \n...            ...        ...               ...               ...   \n395397 -122.431046  37.783030               0.0               1.0   \n395398 -122.414073  37.751685               0.0               1.0   \n395399 -122.389769  37.730564               0.0               1.0   \n395400 -122.447364  37.731948               0.0               1.0   \n395401 -122.403390  37.780266               0.0               1.0   \n\n        DayOfWeek_Saturday  DayOfWeek_Sunday  DayOfWeek_Thursday  \\\n0                      0.0               0.0                 0.0   \n1                      0.0               0.0                 0.0   \n2                      0.0               0.0                 0.0   \n3                      0.0               0.0                 0.0   \n4                      0.0               0.0                 0.0   \n...                    ...               ...                 ...   \n395397                 0.0               0.0                 0.0   \n395398                 0.0               0.0                 0.0   \n395399                 0.0               0.0                 0.0   \n395400                 0.0               0.0                 0.0   \n395401                 0.0               0.0                 0.0   \n\n        DayOfWeek_Tuesday  DayOfWeek_Wednesday  PdDistrict_BAYVIEW  ...  \\\n0                     0.0                  1.0                 0.0  ...   \n1                     0.0                  1.0                 0.0  ...   \n2                     0.0                  1.0                 0.0  ...   \n3                     0.0                  1.0                 0.0  ...   \n4                     0.0                  1.0                 1.0  ...   \n...                   ...                  ...                 ...  ...   \n395397                0.0                  0.0                 0.0  ...   \n395398                0.0                  0.0                 0.0  ...   \n395399                0.0                  0.0                 1.0  ...   \n395400                0.0                  0.0                 0.0  ...   \n395401                0.0                  0.0                 0.0  ...   \n\n        Events_Clear  Events_Fog  Events_Fog-Rain  Events_Rain  \\\n0                1.0         0.0              0.0          0.0   \n1                1.0         0.0              0.0          0.0   \n2                1.0         0.0              0.0          0.0   \n3                1.0         0.0              0.0          0.0   \n4                1.0         0.0              0.0          0.0   \n...              ...         ...              ...          ...   \n395397           1.0         0.0              0.0          0.0   \n395398           1.0         0.0              0.0          0.0   \n395399           1.0         0.0              0.0          0.0   \n395400           1.0         0.0              0.0          0.0   \n395401           1.0         0.0              0.0          0.0   \n\n        Events_Rain-Thunderstorm  Events_Thunderstorm  season_Autumn  \\\n0                            0.0                  0.0            0.0   \n1                            0.0                  0.0            0.0   \n2                            0.0                  0.0            0.0   \n3                            0.0                  0.0            0.0   \n4                            0.0                  0.0            0.0   \n...                          ...                  ...            ...   \n395397                       0.0                  0.0            0.0   \n395398                       0.0                  0.0            0.0   \n395399                       0.0                  0.0            0.0   \n395400                       0.0                  0.0            0.0   \n395401                       0.0                  0.0            0.0   \n\n        season_Spring  season_Summer  season_Winter  \n0                 1.0            0.0            0.0  \n1                 1.0            0.0            0.0  \n2                 1.0            0.0            0.0  \n3                 1.0            0.0            0.0  \n4                 1.0            0.0            0.0  \n...               ...            ...            ...  \n395397            0.0            0.0            1.0  \n395398            0.0            0.0            1.0  \n395399            0.0            0.0            1.0  \n395400            0.0            0.0            1.0  \n395401            0.0            0.0            1.0  \n\n[395402 rows x 31 columns]",
      "text/html": "<div>\n<style scoped>\n    .dataframe tbody tr th:only-of-type {\n        vertical-align: middle;\n    }\n\n    .dataframe tbody tr th {\n        vertical-align: top;\n    }\n\n    .dataframe thead th {\n        text-align: right;\n    }\n</style>\n<table border=\"1\" class=\"dataframe\">\n  <thead>\n    <tr style=\"text-align: right;\">\n      <th></th>\n      <th>X</th>\n      <th>Y</th>\n      <th>DayOfWeek_Friday</th>\n      <th>DayOfWeek_Monday</th>\n      <th>DayOfWeek_Saturday</th>\n      <th>DayOfWeek_Sunday</th>\n      <th>DayOfWeek_Thursday</th>\n      <th>DayOfWeek_Tuesday</th>\n      <th>DayOfWeek_Wednesday</th>\n      <th>PdDistrict_BAYVIEW</th>\n      <th>...</th>\n      <th>Events_Clear</th>\n      <th>Events_Fog</th>\n      <th>Events_Fog-Rain</th>\n      <th>Events_Rain</th>\n      <th>Events_Rain-Thunderstorm</th>\n      <th>Events_Thunderstorm</th>\n      <th>season_Autumn</th>\n      <th>season_Spring</th>\n      <th>season_Summer</th>\n      <th>season_Winter</th>\n    </tr>\n  </thead>\n  <tbody>\n    <tr>\n      <th>0</th>\n      <td>-122.426995</td>\n      <td>37.800873</td>\n      <td>0.0</td>\n      <td>0.0</td>\n      <td>0.0</td>\n      <td>0.0</td>\n      <td>0.0</td>\n      <td>0.0</td>\n      <td>1.0</td>\n      <td>0.0</td>\n      <td>...</td>\n      <td>1.0</td>\n      <td>0.0</td>\n      <td>0.0</td>\n      <td>0.0</td>\n      <td>0.0</td>\n      <td>0.0</td>\n      <td>0.0</td>\n      <td>1.0</td>\n      <td>0.0</td>\n      <td>0.0</td>\n    </tr>\n    <tr>\n      <th>1</th>\n      <td>-122.438738</td>\n      <td>37.771541</td>\n      <td>0.0</td>\n      <td>0.0</td>\n      <td>0.0</td>\n      <td>0.0</td>\n      <td>0.0</td>\n      <td>0.0</td>\n      <td>1.0</td>\n      <td>0.0</td>\n      <td>...</td>\n      <td>1.0</td>\n      <td>0.0</td>\n      <td>0.0</td>\n      <td>0.0</td>\n      <td>0.0</td>\n      <td>0.0</td>\n      <td>0.0</td>\n      <td>1.0</td>\n      <td>0.0</td>\n      <td>0.0</td>\n    </tr>\n    <tr>\n      <th>2</th>\n      <td>-122.403252</td>\n      <td>37.713431</td>\n      <td>0.0</td>\n      <td>0.0</td>\n      <td>0.0</td>\n      <td>0.0</td>\n      <td>0.0</td>\n      <td>0.0</td>\n      <td>1.0</td>\n      <td>0.0</td>\n      <td>...</td>\n      <td>1.0</td>\n      <td>0.0</td>\n      <td>0.0</td>\n      <td>0.0</td>\n      <td>0.0</td>\n      <td>0.0</td>\n      <td>0.0</td>\n      <td>1.0</td>\n      <td>0.0</td>\n      <td>0.0</td>\n    </tr>\n    <tr>\n      <th>3</th>\n      <td>-122.423327</td>\n      <td>37.725138</td>\n      <td>0.0</td>\n      <td>0.0</td>\n      <td>0.0</td>\n      <td>0.0</td>\n      <td>0.0</td>\n      <td>0.0</td>\n      <td>1.0</td>\n      <td>0.0</td>\n      <td>...</td>\n      <td>1.0</td>\n      <td>0.0</td>\n      <td>0.0</td>\n      <td>0.0</td>\n      <td>0.0</td>\n      <td>0.0</td>\n      <td>0.0</td>\n      <td>1.0</td>\n      <td>0.0</td>\n      <td>0.0</td>\n    </tr>\n    <tr>\n      <th>4</th>\n      <td>-122.371274</td>\n      <td>37.727564</td>\n      <td>0.0</td>\n      <td>0.0</td>\n      <td>0.0</td>\n      <td>0.0</td>\n      <td>0.0</td>\n      <td>0.0</td>\n      <td>1.0</td>\n      <td>1.0</td>\n      <td>...</td>\n      <td>1.0</td>\n      <td>0.0</td>\n      <td>0.0</td>\n      <td>0.0</td>\n      <td>0.0</td>\n      <td>0.0</td>\n      <td>0.0</td>\n      <td>1.0</td>\n      <td>0.0</td>\n      <td>0.0</td>\n    </tr>\n    <tr>\n      <th>...</th>\n      <td>...</td>\n      <td>...</td>\n      <td>...</td>\n      <td>...</td>\n      <td>...</td>\n      <td>...</td>\n      <td>...</td>\n      <td>...</td>\n      <td>...</td>\n      <td>...</td>\n      <td>...</td>\n      <td>...</td>\n      <td>...</td>\n      <td>...</td>\n      <td>...</td>\n      <td>...</td>\n      <td>...</td>\n      <td>...</td>\n      <td>...</td>\n      <td>...</td>\n      <td>...</td>\n    </tr>\n    <tr>\n      <th>395397</th>\n      <td>-122.431046</td>\n      <td>37.783030</td>\n      <td>0.0</td>\n      <td>1.0</td>\n      <td>0.0</td>\n      <td>0.0</td>\n      <td>0.0</td>\n      <td>0.0</td>\n      <td>0.0</td>\n      <td>0.0</td>\n      <td>...</td>\n      <td>1.0</td>\n      <td>0.0</td>\n      <td>0.0</td>\n      <td>0.0</td>\n      <td>0.0</td>\n      <td>0.0</td>\n      <td>0.0</td>\n      <td>0.0</td>\n      <td>0.0</td>\n      <td>1.0</td>\n    </tr>\n    <tr>\n      <th>395398</th>\n      <td>-122.414073</td>\n      <td>37.751685</td>\n      <td>0.0</td>\n      <td>1.0</td>\n      <td>0.0</td>\n      <td>0.0</td>\n      <td>0.0</td>\n      <td>0.0</td>\n      <td>0.0</td>\n      <td>0.0</td>\n      <td>...</td>\n      <td>1.0</td>\n      <td>0.0</td>\n      <td>0.0</td>\n      <td>0.0</td>\n      <td>0.0</td>\n      <td>0.0</td>\n      <td>0.0</td>\n      <td>0.0</td>\n      <td>0.0</td>\n      <td>1.0</td>\n    </tr>\n    <tr>\n      <th>395399</th>\n      <td>-122.389769</td>\n      <td>37.730564</td>\n      <td>0.0</td>\n      <td>1.0</td>\n      <td>0.0</td>\n      <td>0.0</td>\n      <td>0.0</td>\n      <td>0.0</td>\n      <td>0.0</td>\n      <td>1.0</td>\n      <td>...</td>\n      <td>1.0</td>\n      <td>0.0</td>\n      <td>0.0</td>\n      <td>0.0</td>\n      <td>0.0</td>\n      <td>0.0</td>\n      <td>0.0</td>\n      <td>0.0</td>\n      <td>0.0</td>\n      <td>1.0</td>\n    </tr>\n    <tr>\n      <th>395400</th>\n      <td>-122.447364</td>\n      <td>37.731948</td>\n      <td>0.0</td>\n      <td>1.0</td>\n      <td>0.0</td>\n      <td>0.0</td>\n      <td>0.0</td>\n      <td>0.0</td>\n      <td>0.0</td>\n      <td>0.0</td>\n      <td>...</td>\n      <td>1.0</td>\n      <td>0.0</td>\n      <td>0.0</td>\n      <td>0.0</td>\n      <td>0.0</td>\n      <td>0.0</td>\n      <td>0.0</td>\n      <td>0.0</td>\n      <td>0.0</td>\n      <td>1.0</td>\n    </tr>\n    <tr>\n      <th>395401</th>\n      <td>-122.403390</td>\n      <td>37.780266</td>\n      <td>0.0</td>\n      <td>1.0</td>\n      <td>0.0</td>\n      <td>0.0</td>\n      <td>0.0</td>\n      <td>0.0</td>\n      <td>0.0</td>\n      <td>0.0</td>\n      <td>...</td>\n      <td>1.0</td>\n      <td>0.0</td>\n      <td>0.0</td>\n      <td>0.0</td>\n      <td>0.0</td>\n      <td>0.0</td>\n      <td>0.0</td>\n      <td>0.0</td>\n      <td>0.0</td>\n      <td>1.0</td>\n    </tr>\n  </tbody>\n</table>\n<p>395402 rows × 31 columns</p>\n</div>"
     },
     "execution_count": 2,
     "metadata": {},
     "output_type": "execute_result"
    }
   ],
   "source": [
    "X_final, y, X_train, X_test, y_train, y_test, data, feature_columns, categorical_features,target_column, label_encoder = loadData()\n",
    "X_final"
   ],
   "metadata": {
    "collapsed": false
   }
  },
  {
   "cell_type": "code",
   "execution_count": 3,
   "outputs": [],
   "source": [
    "rf_clf = RandomForestClassifier(max_depth=None, random_state=42)"
   ],
   "metadata": {
    "collapsed": false
   }
  },
  {
   "cell_type": "code",
   "execution_count": 4,
   "outputs": [
    {
     "name": "stdout",
     "output_type": "stream",
     "text": [
      "Average accuracy: 41.8136%\n",
      "Standard deviation accuracy: 1.9134%\n",
      "Average f1_macro: 30.6033%\n",
      "Standard deviation f1_macro: 1.7710%\n",
      "Average roc_auc_ovr: 64.2488%\n",
      "Standard deviation roc_auc_ovr: 0.5959%\n",
      "Difference in std between train and test accuracy: -1.7746%\n",
      "Difference in std between train and test f1_macro: -1.6224%\n",
      "Difference in std between train and test roc_auc_ovr: -0.5644%\n"
     ]
    }
   ],
   "source": [
    "# define scoring metrics\n",
    "scoring = {\n",
    "    'accuracy': 'accuracy',\n",
    "    'f1_macro': 'f1_macro',\n",
    "    'roc_auc_ovr': 'roc_auc_ovr'\n",
    "}\n",
    "\n",
    "# cross validation\n",
    "cv_results = cross_validate(rf_clf, X_final, y, cv=4, scoring=scoring, return_train_score=True)\n",
    "\n",
    "# average and std results\n",
    "for metric in scoring.keys():\n",
    "    print(f\"Average {metric}: {np.mean(cv_results[f'test_{metric}']) * 100:.4f}%\")\n",
    "    print(f\"Standard deviation {metric}: {np.std(cv_results[f'test_{metric}']) * 100:.4f}%\")\n",
    "\n",
    "# differences between train and test\n",
    "for metric in scoring.keys():\n",
    "    test_std = np.std(cv_results[f'test_{metric}'])\n",
    "    train_std = np.std(cv_results[f'train_{metric}'])\n",
    "    print(f\"Difference in std between train and test {metric}: {(train_std - test_std) * 100:.4f}%\")\n",
    "\n",
    "with open('rf_cross_val_result.pkl', 'wb') as f:\n",
    "    pickle.dump(cv_results, f)"
   ],
   "metadata": {
    "collapsed": false
   }
  },
  {
   "cell_type": "code",
   "execution_count": 5,
   "outputs": [
    {
     "name": "stdout",
     "output_type": "stream",
     "text": [
      "Accuracy: 0.5288\n",
      "F1-score: 0.5156\n",
      "ROC-AUC Score (Binary): 0.4813\n",
      "Log Loss: 2.5616\n"
     ]
    }
   ],
   "source": [
    "# Training the classifier\n",
    "rf_clf.fit(X_train, y_train)\n",
    "\n",
    "# Predictions on the test set\n",
    "y_pred = rf_clf.predict(X_test)\n",
    "\n",
    "# Predicting the probabilities for the test set\n",
    "y_pred_proba = rf_clf.predict_proba(X_test)\n",
    "\n",
    "# Calculation of various metrics\n",
    "# We use the “weighted” parameter because this takes imbalances into account\n",
    "accuracy = accuracy_score(y_test, y_pred)\n",
    "f1 = f1_score(y_test, y_pred, average='weighted')\n",
    "\n",
    "# Random Forest does not provide probability estimates directly like XGBoost\n",
    "# For ROC-AUC score, we can only calculate it for binary or multiclass classification with one-vs-one or one-vs-rest strategy.\n",
    "# Here, we'll calculate ROC-AUC score for binary classification since RandomForestClassifier does not output probabilities for multiclass directly.\n",
    "\n",
    "lb = LabelBinarizer()\n",
    "lb.fit(y_test)\n",
    "y_test_binarized = lb.transform(y_test)\n",
    "y_pred_binarized = lb.transform(y_pred)\n",
    "\n",
    "roc_auc = roc_auc_score(y_test_binarized[:, 0], y_pred_proba[:, 1])  # Assuming binary classification\n",
    "logloss = log_loss(y_test, y_pred_proba)\n",
    "\n",
    "print(f\"Accuracy: {accuracy:.4f}\")\n",
    "print(f\"F1-score: {f1:.4f}\")\n",
    "print(f\"ROC-AUC Score (Binary): {roc_auc:.4f}\")\n",
    "print(f\"Log Loss: {logloss:.4f}\")\n",
    "\n",
    "with open('random_forest_model.pkl', 'wb') as f:\n",
    "    pickle.dump(rf_clf, f)"
   ],
   "metadata": {
    "collapsed": false
   }
  },
  {
   "cell_type": "code",
   "execution_count": 6,
   "outputs": [
    {
     "ename": "NameError",
     "evalue": "name 'plt' is not defined",
     "output_type": "error",
     "traceback": [
      "\u001B[0;31m---------------------------------------------------------------------------\u001B[0m",
      "\u001B[0;31mNameError\u001B[0m                                 Traceback (most recent call last)",
      "Cell \u001B[0;32mIn[6], line 6\u001B[0m\n\u001B[1;32m      3\u001B[0m feature_names \u001B[38;5;241m=\u001B[39m X_train\u001B[38;5;241m.\u001B[39mcolumns\u001B[38;5;241m.\u001B[39mtolist()\n\u001B[1;32m      5\u001B[0m \u001B[38;5;66;03m# plot feature importance\u001B[39;00m\n\u001B[0;32m----> 6\u001B[0m \u001B[43mplt\u001B[49m\u001B[38;5;241m.\u001B[39mfigure(figsize\u001B[38;5;241m=\u001B[39m(\u001B[38;5;241m10\u001B[39m, \u001B[38;5;241m6\u001B[39m))\n\u001B[1;32m      7\u001B[0m plt\u001B[38;5;241m.\u001B[39mbar(\u001B[38;5;28mrange\u001B[39m(\u001B[38;5;28mlen\u001B[39m(importance)), importance)\n\u001B[1;32m      8\u001B[0m plt\u001B[38;5;241m.\u001B[39mxticks(\u001B[38;5;28mrange\u001B[39m(\u001B[38;5;28mlen\u001B[39m(importance)), feature_names, rotation\u001B[38;5;241m=\u001B[39m\u001B[38;5;241m90\u001B[39m)\n",
      "\u001B[0;31mNameError\u001B[0m: name 'plt' is not defined"
     ]
    }
   ],
   "source": [
    "# extract feature importance\n",
    "importance = rf_clf.feature_importances_\n",
    "feature_names = X_train.columns.tolist()\n",
    "\n",
    "# plot feature importance\n",
    "plt.figure(figsize=(10, 6))\n",
    "plt.bar(range(len(importance)), importance)\n",
    "plt.xticks(range(len(importance)), feature_names, rotation=90)\n",
    "plt.title('Feature Importance')\n",
    "plt.xlabel('Features')\n",
    "plt.ylabel('Importance')\n",
    "plt.show()"
   ],
   "metadata": {
    "collapsed": false
   }
  },
  {
   "cell_type": "code",
   "execution_count": null,
   "outputs": [],
   "source": [
    "from sklearn.model_selection import StratifiedKFold\n",
    "from sklearn.feature_selection import RFECV\n",
    "import matplotlib.pyplot as plt\n",
    "# initialise RFECV\n",
    "cv_strategy = StratifiedKFold(n_splits=5)\n",
    "rfecv = RFECV(estimator=rf_clf, step=1, cv=cv_strategy, scoring='accuracy')\n",
    "\n",
    "# RFECV fit\n",
    "rfecv.fit(X_train, y_train)\n",
    "\n",
    "# print optimal number of features\n",
    "print(\"Optimal number of features: %d\" % rfecv.n_features_)\n",
    "\n",
    "# Extracting the feature names based on RFECV support\n",
    "#selected_features = X_train.columns[rfecv.support_]\n",
    "\n",
    "# Output of the selected feature names and their rankings\n",
    "print(\"Selected features and their rankings:\")\n",
    "for rank, feature in zip(rfecv.ranking_, X_train.columns):\n",
    "    print(f\"{feature}: Rank {rank}\")\n",
    "\n",
    "# Plot\n",
    "plt.figure()\n",
    "plt.xlabel(\"Number of features selected\")\n",
    "plt.ylabel(\"Cross Validation Score (Accuracy)\")\n",
    "plt.plot(range(1, len(rfecv.cv_results_['mean_test_score']) + 1), rfecv.cv_results_['mean_test_score'])\n",
    "plt.title('RFECV - Performance of the model')\n",
    "plt.show()"
   ],
   "metadata": {
    "collapsed": false
   }
  },
  {
   "cell_type": "code",
   "execution_count": null,
   "outputs": [],
   "source": [
    "from sklearn.metrics import confusion_matrix\n",
    "import seaborn as sns\n",
    "import matplotlib.pyplot as plt\n",
    "\n",
    "# Confusion Matrix\n",
    "y_test_names = label_encoder.inverse_transform(y_test)\n",
    "cm = confusion_matrix(y_test_names, label_encoder.inverse_transform(y_pred)) # Annahme, dass y_pred die Vorhersagen sind\n",
    "plt.figure(figsize=(10, 7))\n",
    "sns.heatmap(cm, annot=True, fmt='d', cmap='Blues', xticklabels=label_encoder.classes_, yticklabels=label_encoder.classes_)\n",
    "plt.xlabel('Predicted')\n",
    "plt.ylabel('True')\n",
    "plt.title('Confusion Matrix')\n",
    "plt.show()"
   ],
   "metadata": {
    "collapsed": false
   }
  },
  {
   "cell_type": "code",
   "execution_count": null,
   "outputs": [],
   "source": [
    "from itertools import cycle\n",
    "from sklearn.metrics import roc_curve, auc\n",
    "import matplotlib.pyplot as plt\n",
    "\n",
    "n_classes = y_test_binarized.shape[1]\n",
    "fpr = dict()\n",
    "tpr = dict()\n",
    "roc_auc = dict()\n",
    "\n",
    "for i in range(n_classes):\n",
    "    fpr[i], tpr[i], _ = roc_curve(y_test_binarized[:, i], y_pred_proba[:, i])\n",
    "    roc_auc[i] = auc(fpr[i], tpr[i])\n",
    "\n",
    "colors = cycle(['blue', 'red', 'green', 'orange', 'black'])\n",
    "\n",
    "# plot ROC\n",
    "plt.figure(figsize=(7, 5))\n",
    "for i, color in zip(range(n_classes), colors):\n",
    "    # Ersetzen von `i` durch `label_encoder.classes_[i]` für die Klassennamen\n",
    "    plt.plot(fpr[i], tpr[i], color=color, lw=2,\n",
    "             label='ROC curve of class {0} (area = {1:0.2f})'\n",
    "             ''.format(label_encoder.classes_[i], roc_auc[i]))\n",
    "\n",
    "plt.plot([0, 1], [0, 1], 'k--', lw=2)\n",
    "plt.xlim([0.0, 1.0])\n",
    "plt.ylim([0.0, 1.05])\n",
    "plt.xlabel('False Positive Rate')\n",
    "plt.ylabel('True Positive Rate')\n",
    "plt.title('Receiver Operating Characteristic (ROC)')\n",
    "plt.legend(loc=\"lower right\")\n",
    "plt.show()\n"
   ],
   "metadata": {
    "collapsed": false
   }
  },
  {
   "cell_type": "code",
   "execution_count": null,
   "outputs": [],
   "source": [
    "from sklearn.model_selection import GridSearchCV\n",
    "\n",
    "# grid\n",
    "param_grid = {\n",
    "    'max_depth': [3, 4, 5],\n",
    "    'learning_rate': [0.01, 0.1, 0.2],\n",
    "    'n_estimators': [100, 200, 300],\n",
    "    'subsample': [0.8, 0.9, 1.0]\n",
    "}\n",
    "\n",
    "# GridSearchCV-initialization\n",
    "grid_search = GridSearchCV(estimator=rf_clf, param_grid=param_grid, scoring='accuracy', cv=4, n_jobs=-1)\n",
    "\n",
    "# search for best params\n",
    "grid_search.fit(X_train, y_train)\n",
    "\n",
    "# scores\n",
    "print(f\"Best Parameter: {grid_search.best_params_}\")\n",
    "print(f\"Best Accuracy: {grid_search.best_score_ * 100:.2f}%\")\n",
    "with open('rfgrid_search.pkl', 'wb') as f:\n",
    "    pickle.dump(grid_search, f)"
   ],
   "metadata": {
    "collapsed": false
   }
  },
  {
   "cell_type": "code",
   "execution_count": null,
   "outputs": [],
   "source": [
    "best_params = grid_search.best_params_\n",
    "\n",
    "best_rf_clf = RandomForestClassifier(**best_params, random_state=42)\n",
    "\n",
    "best_rf_clf.fit(X_train, y_train)\n",
    "y_pred = best_rf_clf.predict(X_test)\n",
    "\n",
    "# Calculate accuracy, F1-score, and ROC-AUC\n",
    "accuracy = accuracy_score(y_test, y_pred)\n",
    "f1 = f1_score(y_test, y_pred, average='weighted')\n",
    "roc_auc = roc_auc_score(y_test, best_rf_clf.predict_proba(X_test), multi_class='ovr', average='weighted')\n",
    "\n",
    "# Print evaluation metrics\n",
    "print(f\"Accuracy on test data: {accuracy:.4f}\")\n",
    "print(f\"F1-score on test data: {f1:.4f}\")\n",
    "print(f\"ROC-AUC on test data: {roc_auc:.4f}\")\n",
    "\n",
    "with open('random_forest_model2.pkl', 'wb') as f:\n",
    "    pickle.dump(best_rf_clf, f)"
   ],
   "metadata": {
    "collapsed": false
   }
  }
 ],
 "metadata": {
  "kernelspec": {
   "display_name": "Python 3",
   "language": "python",
   "name": "python3"
  },
  "language_info": {
   "codemirror_mode": {
    "name": "ipython",
    "version": 2
   },
   "file_extension": ".py",
   "mimetype": "text/x-python",
   "name": "python",
   "nbconvert_exporter": "python",
   "pygments_lexer": "ipython2",
   "version": "2.7.6"
  }
 },
 "nbformat": 4,
 "nbformat_minor": 0
}
