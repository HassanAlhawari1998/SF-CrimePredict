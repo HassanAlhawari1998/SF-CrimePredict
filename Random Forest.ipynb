{
 "cells": [
  {
   "cell_type": "code",
   "execution_count": 1,
   "metadata": {
    "collapsed": true,
    "ExecuteTime": {
     "end_time": "2023-12-02T12:50:25.537048400Z",
     "start_time": "2023-12-02T12:50:24.774804800Z"
    }
   },
   "outputs": [
    {
     "name": "stdout",
     "output_type": "stream",
     "text": [
      "        LARCENY.THEFT  ASSAULT  DRUG.NARCOTIC  VEHICLE.THEFT  BURGLARY\n",
      "0                   0        0              0              0         0\n",
      "1                   0        0              0              0         0\n",
      "2                   0        0              0              0         0\n",
      "3                   0        0              0              0         0\n",
      "4                   0        0              0              0         0\n",
      "...               ...      ...            ...            ...       ...\n",
      "884257              0        0              0              0         0\n",
      "884258              0        0              0              0         0\n",
      "884259              0        0              0              0         0\n",
      "884260              0        0              0              0         0\n",
      "884261              0        0              0              0         0\n",
      "\n",
      "[884262 rows x 5 columns]\n"
     ]
    }
   ],
   "source": [
    "import pandas as pd\n",
    "\n",
    "file_path = 'sampleSubmission_selected.csv'\n",
    "df = pd.read_csv(file_path)\n",
    "print(df)"
   ]
  },
  {
   "cell_type": "code",
   "execution_count": null,
   "outputs": [],
   "source": [],
   "metadata": {
    "collapsed": false
   }
  }
 ],
 "metadata": {
  "kernelspec": {
   "display_name": "Python 3",
   "language": "python",
   "name": "python3"
  },
  "language_info": {
   "codemirror_mode": {
    "name": "ipython",
    "version": 2
   },
   "file_extension": ".py",
   "mimetype": "text/x-python",
   "name": "python",
   "nbconvert_exporter": "python",
   "pygments_lexer": "ipython2",
   "version": "2.7.6"
  }
 },
 "nbformat": 4,
 "nbformat_minor": 0
}
